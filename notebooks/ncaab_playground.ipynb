{
 "cells": [
  {
   "cell_type": "code",
   "execution_count": null,
   "metadata": {},
   "outputs": [],
   "source": [
    "import pandas as pd\n",
    "import numpy as np\n",
    "import seaborn as sns\n",
    "import os\n",
    "from sportsipy.ncaab import boxscore\n",
    "from sportsipy.ncaab.teams import Teams\n",
    "from sportsipy.ncaab.teams import Team\n",
    "\n",
    "df = pd.read_csv('../data/2018-2019_pregamestatsfinal.csv')"
   ]
  },
  {
   "cell_type": "code",
   "execution_count": null,
   "metadata": {},
   "outputs": [],
   "source": [
    "df.head()"
   ]
  },
  {
   "cell_type": "code",
   "execution_count": null,
   "metadata": {},
   "outputs": [],
   "source": [
    "# We have a population of just 1 season. We need to create a holdout sample to test with\n",
    "test_df = df.sample(frac = 0.15)\n",
    "\n",
    "train_df = pd.concat([test_df,df]).drop_duplicates(keep=False)\n",
    "\n",
    "print(len(df), ' ', len(test_df), ' ', len(train_df))\n",
    "\n",
    "train_df.head()\n"
   ]
  },
  {
   "cell_type": "code",
   "execution_count": null,
   "metadata": {},
   "outputs": [],
   "source": [
    "# Dropping irrelevant columns\n",
    "train_df.drop(columns=['conf', 'home_team_name', 'away_team_name', 'team_name', 'winning_abbr', 'winning_name', 'losing_name', 'losing_abbr', 'location', 'home_team', 'away_team'], inplace=True)\n",
    "test_df.drop(columns=['conf', 'home_team_name', 'away_team_name', 'team_name', 'winning_abbr', 'winning_name', 'losing_name', 'losing_abbr', 'location', 'home_team', 'away_team'], inplace=True)\n",
    "\n",
    "test_df.head()"
   ]
  },
  {
   "cell_type": "code",
   "execution_count": null,
   "metadata": {},
   "outputs": [],
   "source": [
    "test_df.isnull().sum()"
   ]
  },
  {
   "cell_type": "code",
   "execution_count": null,
   "metadata": {},
   "outputs": [],
   "source": [
    "import matplotlib.pyplot as plt \n",
    "plt.figure(figsize=(8,6))\n",
    "sns.set_style(\"whitegrid\")\n",
    "sns.countplot(x='winner', data= train_df)"
   ]
  },
  {
   "cell_type": "code",
   "execution_count": null,
   "metadata": {},
   "outputs": [],
   "source": [
    "#train_df['away_pregame_eFG'].plot(kind='box', figsize= (10,8))\n",
    "\n",
    "# Create bool masks where home team won - we will use this to get 1 and 0 for the results\n",
    "winnermask1 = (test_df['winner'] == 'Home')\n",
    "winnermask2 = (train_df['winner'] == 'Home')\n"
   ]
  },
  {
   "cell_type": "code",
   "execution_count": null,
   "metadata": {},
   "outputs": [],
   "source": [
    "# Setting a new column equal to the bool mask of winner = Home\n",
    "train_df['Home_Win'] = (train_df['winner'] == 'Home')\n",
    "test_df['Home_Win'] = (test_df['winner'] == 'Home')"
   ]
  },
  {
   "cell_type": "code",
   "execution_count": null,
   "metadata": {},
   "outputs": [],
   "source": [
    "test_df.head()"
   ]
  },
  {
   "cell_type": "code",
   "execution_count": null,
   "metadata": {},
   "outputs": [],
   "source": [
    "\n",
    "#Turning the True/False into 1/0\n",
    "train_df[\"Home_Win\"] = train_df[\"Home_Win\"].astype(int)\n",
    "test_df[\"Home_Win\"] = test_df[\"Home_Win\"].astype(int)\n",
    "\n"
   ]
  },
  {
   "cell_type": "code",
   "execution_count": null,
   "metadata": {},
   "outputs": [],
   "source": [
    "# Creating a column that has the month the game took place in. Not sure whether this is 100% a good idea\n",
    "train_df.reset_index(inplace=True)\n",
    "\n",
    "for i in range(0,5000):\n",
    "    datestring = train_df.at[i, 'date']\n",
    "    if 'Novemb' in datestring:\n",
    "        train_df.at[i, 'month'] = 'November'\n",
    "    elif 'Dece' in datestring:\n",
    "        train_df.at[i, 'month'] = 'December'\n",
    "    elif 'Janu' in datestring:\n",
    "        train_df.at[i, 'month'] = 'January'\n",
    "    elif 'Febr' in datestring:\n",
    "        train_df.at[i, 'month'] = 'February'\n",
    "    elif 'Mar' in datestring:\n",
    "        train_df.at[i, 'month'] = 'March'\n",
    "    elif 'Apr' in datestring:\n",
    "        train_df.at[i, 'month'] = 'April'\n",
    "    else:\n",
    "        print('error')"
   ]
  },
  {
   "cell_type": "code",
   "execution_count": null,
   "metadata": {},
   "outputs": [],
   "source": [
    "# Do the same for the testing data\n",
    "test_df.reset_index(inplace=True)\n",
    "\n",
    "for i in range(0,5000):\n",
    "    datestring = test_df.at[i, 'date']\n",
    "    if 'Novemb' in datestring:\n",
    "        test_df.at[i, 'month'] = 'November'\n",
    "    elif 'Dece' in datestring:\n",
    "        test_df.at[i, 'month'] = 'December'\n",
    "    elif 'Janu' in datestring:\n",
    "        test_df.at[i, 'month'] = 'January'\n",
    "    elif 'Febr' in datestring:\n",
    "        test_df.at[i, 'month'] = 'February'\n",
    "    elif 'Mar' in datestring:\n",
    "        test_df.at[i, 'month'] = 'March'\n",
    "    elif 'Apr' in datestring:\n",
    "        test_df.at[i, 'month'] = 'April'\n",
    "    else:\n",
    "        print('error')\n"
   ]
  },
  {
   "cell_type": "code",
   "execution_count": null,
   "metadata": {},
   "outputs": [],
   "source": [
    "# Drop irrelevant columns - might run into errors here\n",
    "train_df.drop(columns=['level_0', 'index', 'boxscore', 'date', 'winner'], inplace=True)\n",
    "test_df.drop(columns=['index', 'boxscore', 'date', 'winner'], inplace=True)\n"
   ]
  },
  {
   "cell_type": "code",
   "execution_count": null,
   "metadata": {},
   "outputs": [],
   "source": [
    "# Get dummies for the month\n",
    "train_df= pd.get_dummies(train_df, columns=['month'], drop_first= True)\n",
    "test_df= pd.get_dummies(test_df, columns=['month'], drop_first= True)"
   ]
  },
  {
   "cell_type": "code",
   "execution_count": null,
   "metadata": {},
   "outputs": [],
   "source": [
    "# Filling null values with the median. Not sure if this is the best approach yet, vs. just dropping the nulls. It's 3% of the games\n",
    "train_df['away_pregame_rebound_percentage'].fillna(train_df['away_pregame_rebound_percentage'].median(), inplace=True)\n",
    "train_df['away_pregame_eFG_allowed'].fillna(train_df['away_pregame_eFG_allowed'].median(), inplace=True)\n",
    "train_df['away_pregame_eFG'].fillna(train_df['away_pregame_eFG'].median(), inplace=True)\n",
    "train_df['away_pregame_win_percentage'].fillna(train_df['away_pregame_win_percentage'].median(), inplace=True)\n",
    "\n",
    "train_df['home_pregame_rebound_percentage'].fillna(train_df['home_pregame_rebound_percentage'].median(), inplace=True)\n",
    "train_df['home_pregame_eFG_allowed'].fillna(train_df['home_pregame_eFG_allowed'].median(), inplace=True)\n",
    "train_df['home_pregame_eFG'].fillna(train_df['home_pregame_eFG'].median(), inplace=True)\n",
    "train_df['home_pregame_win_percentage'].fillna(train_df['home_pregame_win_percentage'].median(), inplace=True)"
   ]
  },
  {
   "cell_type": "code",
   "execution_count": null,
   "metadata": {},
   "outputs": [],
   "source": [
    "# Repeat for test data\n",
    "test_df['away_pregame_rebound_percentage'].fillna(test_df['away_pregame_rebound_percentage'].median(), inplace=True)\n",
    "test_df['away_pregame_eFG_allowed'].fillna(test_df['away_pregame_eFG_allowed'].median(), inplace=True)\n",
    "test_df['away_pregame_eFG'].fillna(test_df['away_pregame_eFG'].median(), inplace=True)\n",
    "test_df['away_pregame_win_percentage'].fillna(test_df['away_pregame_win_percentage'].median(), inplace=True)\n",
    "\n",
    "test_df['home_pregame_rebound_percentage'].fillna(test_df['home_pregame_rebound_percentage'].median(), inplace=True)\n",
    "test_df['home_pregame_eFG_allowed'].fillna(test_df['home_pregame_eFG_allowed'].median(), inplace=True)\n",
    "test_df['home_pregame_eFG'].fillna(test_df['home_pregame_eFG'].median(), inplace=True)\n",
    "test_df['home_pregame_win_percentage'].fillna(test_df['home_pregame_win_percentage'].median(), inplace=True)"
   ]
  },
  {
   "cell_type": "code",
   "execution_count": null,
   "metadata": {},
   "outputs": [],
   "source": [
    "test_df.isnull().sum()"
   ]
  },
  {
   "cell_type": "code",
   "execution_count": null,
   "metadata": {},
   "outputs": [],
   "source": [
    "# shift column 'Name' to first position\n",
    "first_column = test_df.pop('Home_Win')\n",
    "  \n",
    "# insert column using insert(position,column_name,\n",
    "# first_column) function\n",
    "test_df.insert(0, 'Home_Win', first_column)\n",
    "test_df.head()"
   ]
  },
  {
   "cell_type": "code",
   "execution_count": null,
   "metadata": {},
   "outputs": [],
   "source": [
    "# shift column 'Name' to first position\n",
    "first_column = train_df.pop('Home_Win')\n",
    "  \n",
    "# insert column using insert(position,column_name,\n",
    "# first_column) function\n",
    "train_df.insert(0, 'Home_Win', first_column)\n",
    "train_df.head()"
   ]
  },
  {
   "cell_type": "code",
   "execution_count": null,
   "metadata": {},
   "outputs": [],
   "source": [
    "# Create separate dataframes for the features and target variable so we can train the model\n",
    "x_train = train_df.iloc[:,1:]\n",
    "y_train = train_df['Home_Win'].values.reshape(-1,1)\n",
    "\n",
    "#This will be used to test our performance\n",
    "x_test = test_df.iloc[:,1:]\n",
    "y_test = test_df['Home_Win'].values.reshape(-1,1)\n"
   ]
  },
  {
   "cell_type": "code",
   "execution_count": null,
   "metadata": {},
   "outputs": [],
   "source": [
    "from sklearn.preprocessing import StandardScaler\n",
    "ss= StandardScaler()\n",
    "features= ['away_pregame_eFG', 'away_pregame_rebound_percentage', 'away_pregame_eFG_allowed', 'away_pregame_win_percentage','home_pregame_eFG', 'home_pregame_rebound_percentage', 'home_pregame_eFG_allowed', 'home_pregame_win_percentage']\n",
    "\n",
    "# Apply transformations to the features we need to normalize on a (-1, 1) scale. Makes the model faster\n",
    "x_train[features]= ss.fit_transform(x_train[features])\n",
    "x_test[features]= ss.fit_transform(x_test[features])"
   ]
  },
  {
   "cell_type": "code",
   "execution_count": null,
   "metadata": {},
   "outputs": [],
   "source": [
    "from sklearn.linear_model import LogisticRegression\n",
    "clf = LogisticRegression()\n",
    "# clf is our model object\n",
    "clf.fit(x_train, y_train.ravel())"
   ]
  },
  {
   "cell_type": "code",
   "execution_count": null,
   "metadata": {},
   "outputs": [],
   "source": [
    "print(clf.score(x_train, y_train))"
   ]
  },
  {
   "cell_type": "code",
   "execution_count": 127,
   "metadata": {},
   "outputs": [],
   "source": [
    "# Get predictions on the test data using our model\n",
    "predictions = clf.predict(x_test)\n",
    "win_probability = clf.predict_proba(x_test)"
   ]
  },
  {
   "cell_type": "code",
   "execution_count": 131,
   "metadata": {},
   "outputs": [],
   "source": [
    "# output predictions to a DF\n",
    "predictionsdf = pd.DataFrame({'Win_Home': test_df['Home_Win'], 'Prediction': predictions })\n",
    "#predictionsdf.head()\n"
   ]
  },
  {
   "cell_type": "code",
   "execution_count": 135,
   "metadata": {},
   "outputs": [
    {
     "data": {
      "text/html": [
       "<div>\n",
       "<style scoped>\n",
       "    .dataframe tbody tr th:only-of-type {\n",
       "        vertical-align: middle;\n",
       "    }\n",
       "\n",
       "    .dataframe tbody tr th {\n",
       "        vertical-align: top;\n",
       "    }\n",
       "\n",
       "    .dataframe thead th {\n",
       "        text-align: right;\n",
       "    }\n",
       "</style>\n",
       "<table border=\"1\" class=\"dataframe\">\n",
       "  <thead>\n",
       "    <tr style=\"text-align: right;\">\n",
       "      <th></th>\n",
       "      <th>Home_Loss</th>\n",
       "      <th>Home_Win</th>\n",
       "      <th>Win_Home</th>\n",
       "      <th>Prediction</th>\n",
       "    </tr>\n",
       "  </thead>\n",
       "  <tbody>\n",
       "    <tr>\n",
       "      <th>0</th>\n",
       "      <td>0.401801</td>\n",
       "      <td>0.598199</td>\n",
       "      <td>0</td>\n",
       "      <td>1</td>\n",
       "    </tr>\n",
       "    <tr>\n",
       "      <th>1</th>\n",
       "      <td>0.262481</td>\n",
       "      <td>0.737519</td>\n",
       "      <td>1</td>\n",
       "      <td>1</td>\n",
       "    </tr>\n",
       "    <tr>\n",
       "      <th>2</th>\n",
       "      <td>0.401981</td>\n",
       "      <td>0.598019</td>\n",
       "      <td>1</td>\n",
       "      <td>1</td>\n",
       "    </tr>\n",
       "    <tr>\n",
       "      <th>3</th>\n",
       "      <td>0.420508</td>\n",
       "      <td>0.579492</td>\n",
       "      <td>1</td>\n",
       "      <td>1</td>\n",
       "    </tr>\n",
       "    <tr>\n",
       "      <th>4</th>\n",
       "      <td>0.417486</td>\n",
       "      <td>0.582514</td>\n",
       "      <td>0</td>\n",
       "      <td>1</td>\n",
       "    </tr>\n",
       "  </tbody>\n",
       "</table>\n",
       "</div>"
      ],
      "text/plain": [
       "   Home_Loss  Home_Win  Win_Home  Prediction\n",
       "0   0.401801  0.598199         0           1\n",
       "1   0.262481  0.737519         1           1\n",
       "2   0.401981  0.598019         1           1\n",
       "3   0.420508  0.579492         1           1\n",
       "4   0.417486  0.582514         0           1"
      ]
     },
     "execution_count": 135,
     "metadata": {},
     "output_type": "execute_result"
    }
   ],
   "source": [
    "# Create dataframe based on forecasted probability of each game \n",
    "win_probability_df = pd.DataFrame(win_probability, columns=['Home_Loss', 'Home_Win'])\n",
    "win_probability_df= win_probability_df.merge(predictionsdf, left_index=True, right_index=True, how='outer')\n",
    "win_probability_df.head()\n",
    "# Create histogram to show distribution\n",
    "win_probability_df['Home_Win'].hist(bins=20)"
   ]
  },
  {
   "cell_type": "code",
   "execution_count": 134,
   "metadata": {},
   "outputs": [
    {
     "data": {
      "text/plain": [
       "<AxesSubplot:>"
      ]
     },
     "execution_count": 134,
     "metadata": {},
     "output_type": "execute_result"
    },
    {
     "data": {
      "image/png": "[encoded data removed]",
      "text/plain": [
       "<Figure size 432x288 with 1 Axes>"
      ]
     },
     "metadata": {},
     "output_type": "display_data"
    }
   ],
   "source": []
  },
  {
   "cell_type": "code",
   "execution_count": 143,
   "metadata": {},
   "outputs": [
    {
     "data": {
      "text/html": [
       "<div>\n",
       "<style scoped>\n",
       "    .dataframe tbody tr th:only-of-type {\n",
       "        vertical-align: middle;\n",
       "    }\n",
       "\n",
       "    .dataframe tbody tr th {\n",
       "        vertical-align: top;\n",
       "    }\n",
       "\n",
       "    .dataframe thead th {\n",
       "        text-align: right;\n",
       "    }\n",
       "</style>\n",
       "<table border=\"1\" class=\"dataframe\">\n",
       "  <thead>\n",
       "    <tr style=\"text-align: right;\">\n",
       "      <th></th>\n",
       "      <th>Home_Loss</th>\n",
       "      <th>Home_Win</th>\n",
       "      <th>Win_Home</th>\n",
       "      <th>Prediction</th>\n",
       "    </tr>\n",
       "  </thead>\n",
       "  <tbody>\n",
       "    <tr>\n",
       "      <th>0</th>\n",
       "      <td>0.401801</td>\n",
       "      <td>0.598199</td>\n",
       "      <td>0</td>\n",
       "      <td>1</td>\n",
       "    </tr>\n",
       "    <tr>\n",
       "      <th>2</th>\n",
       "      <td>0.401981</td>\n",
       "      <td>0.598019</td>\n",
       "      <td>1</td>\n",
       "      <td>1</td>\n",
       "    </tr>\n",
       "    <tr>\n",
       "      <th>3</th>\n",
       "      <td>0.420508</td>\n",
       "      <td>0.579492</td>\n",
       "      <td>1</td>\n",
       "      <td>1</td>\n",
       "    </tr>\n",
       "    <tr>\n",
       "      <th>4</th>\n",
       "      <td>0.417486</td>\n",
       "      <td>0.582514</td>\n",
       "      <td>0</td>\n",
       "      <td>1</td>\n",
       "    </tr>\n",
       "    <tr>\n",
       "      <th>7</th>\n",
       "      <td>0.403518</td>\n",
       "      <td>0.596482</td>\n",
       "      <td>1</td>\n",
       "      <td>1</td>\n",
       "    </tr>\n",
       "  </tbody>\n",
       "</table>\n",
       "</div>"
      ],
      "text/plain": [
       "   Home_Loss  Home_Win  Win_Home  Prediction\n",
       "0   0.401801  0.598199         0           1\n",
       "2   0.401981  0.598019         1           1\n",
       "3   0.420508  0.579492         1           1\n",
       "4   0.417486  0.582514         0           1\n",
       "7   0.403518  0.596482         1           1"
      ]
     },
     "execution_count": 143,
     "metadata": {},
     "output_type": "execute_result"
    }
   ],
   "source": [
    "# Getting the accuracy for the games that we forecast extra high and low likelihood\n",
    "topbucket = win_probability_df[win_probability_df['Home_Win'] > 0.7]\n",
    "topbucket.head()\n",
    "\n",
    "bottombucket = win_probability_df[win_probability_df['Home_Win'] < 0.6]\n",
    "bottombucket.head()"
   ]
  },
  {
   "cell_type": "code",
   "execution_count": 144,
   "metadata": {},
   "outputs": [
    {
     "name": "stdout",
     "output_type": "stream",
     "text": [
      "Overall Accuracy: 0.623      Accuracy p>.70:  0.6190476190476191\n"
     ]
    }
   ],
   "source": [
    "from sklearn.metrics import accuracy_score\n",
    "# Get the accuracy score for our overall predictions, the top and bottom buckets\n",
    "overallaccuracy = accuracy_score(predictionsdf['Win_Home'], predictionsdf['Prediction'])\n",
    "topbucketaccuracy = accuracy_score(topbucket['Win_Home'], topbucket['Prediction'])\n",
    "bottombucketaccuracy = accuracy_score(bottombucket['Win_Home'], bottombucket['Prediction'])\n",
    "print('Overall Accuracy: ', overallaccuracy, '      Accuracy p>.70: ', topbucketaccuracy, '     Accuracy p<.60: ',  bottombucketaccuracy)"
   ]
  },
  {
   "cell_type": "code",
   "execution_count": 147,
   "metadata": {},
   "outputs": [],
   "source": [
    "# Getting confidence ratings for our predictions. >=1 is very confident\n",
    "confidence = clf.decision_function(x_test)\n",
    "confidencedf = pd.DataFrame(confidence, columns=['Confidence_Score'])"
   ]
  },
  {
   "cell_type": "code",
   "execution_count": 149,
   "metadata": {},
   "outputs": [
    {
     "data": {
      "text/html": [
       "<div>\n",
       "<style scoped>\n",
       "    .dataframe tbody tr th:only-of-type {\n",
       "        vertical-align: middle;\n",
       "    }\n",
       "\n",
       "    .dataframe tbody tr th {\n",
       "        vertical-align: top;\n",
       "    }\n",
       "\n",
       "    .dataframe thead th {\n",
       "        text-align: right;\n",
       "    }\n",
       "</style>\n",
       "<table border=\"1\" class=\"dataframe\">\n",
       "  <thead>\n",
       "    <tr style=\"text-align: right;\">\n",
       "      <th></th>\n",
       "      <th>Confidence_Score</th>\n",
       "    </tr>\n",
       "  </thead>\n",
       "  <tbody>\n",
       "    <tr>\n",
       "      <th>0</th>\n",
       "      <td>0.397965</td>\n",
       "    </tr>\n",
       "    <tr>\n",
       "      <th>1</th>\n",
       "      <td>1.033114</td>\n",
       "    </tr>\n",
       "    <tr>\n",
       "      <th>2</th>\n",
       "      <td>0.397219</td>\n",
       "    </tr>\n",
       "    <tr>\n",
       "      <th>3</th>\n",
       "      <td>0.320688</td>\n",
       "    </tr>\n",
       "    <tr>\n",
       "      <th>4</th>\n",
       "      <td>0.333100</td>\n",
       "    </tr>\n",
       "    <tr>\n",
       "      <th>5</th>\n",
       "      <td>0.514339</td>\n",
       "    </tr>\n",
       "    <tr>\n",
       "      <th>6</th>\n",
       "      <td>0.419319</td>\n",
       "    </tr>\n",
       "    <tr>\n",
       "      <th>7</th>\n",
       "      <td>0.390828</td>\n",
       "    </tr>\n",
       "    <tr>\n",
       "      <th>8</th>\n",
       "      <td>0.483451</td>\n",
       "    </tr>\n",
       "    <tr>\n",
       "      <th>9</th>\n",
       "      <td>0.439728</td>\n",
       "    </tr>\n",
       "    <tr>\n",
       "      <th>10</th>\n",
       "      <td>0.360679</td>\n",
       "    </tr>\n",
       "    <tr>\n",
       "      <th>11</th>\n",
       "      <td>0.452741</td>\n",
       "    </tr>\n",
       "    <tr>\n",
       "      <th>12</th>\n",
       "      <td>0.352061</td>\n",
       "    </tr>\n",
       "    <tr>\n",
       "      <th>13</th>\n",
       "      <td>0.861117</td>\n",
       "    </tr>\n",
       "    <tr>\n",
       "      <th>14</th>\n",
       "      <td>0.878221</td>\n",
       "    </tr>\n",
       "    <tr>\n",
       "      <th>15</th>\n",
       "      <td>0.450934</td>\n",
       "    </tr>\n",
       "    <tr>\n",
       "      <th>16</th>\n",
       "      <td>0.468652</td>\n",
       "    </tr>\n",
       "    <tr>\n",
       "      <th>17</th>\n",
       "      <td>0.391261</td>\n",
       "    </tr>\n",
       "    <tr>\n",
       "      <th>18</th>\n",
       "      <td>0.387084</td>\n",
       "    </tr>\n",
       "    <tr>\n",
       "      <th>19</th>\n",
       "      <td>0.467045</td>\n",
       "    </tr>\n",
       "    <tr>\n",
       "      <th>20</th>\n",
       "      <td>0.634694</td>\n",
       "    </tr>\n",
       "    <tr>\n",
       "      <th>21</th>\n",
       "      <td>0.838349</td>\n",
       "    </tr>\n",
       "    <tr>\n",
       "      <th>22</th>\n",
       "      <td>0.624569</td>\n",
       "    </tr>\n",
       "    <tr>\n",
       "      <th>23</th>\n",
       "      <td>0.408845</td>\n",
       "    </tr>\n",
       "    <tr>\n",
       "      <th>24</th>\n",
       "      <td>0.399069</td>\n",
       "    </tr>\n",
       "    <tr>\n",
       "      <th>25</th>\n",
       "      <td>0.520869</td>\n",
       "    </tr>\n",
       "    <tr>\n",
       "      <th>26</th>\n",
       "      <td>0.463130</td>\n",
       "    </tr>\n",
       "    <tr>\n",
       "      <th>27</th>\n",
       "      <td>0.332981</td>\n",
       "    </tr>\n",
       "    <tr>\n",
       "      <th>28</th>\n",
       "      <td>0.901307</td>\n",
       "    </tr>\n",
       "    <tr>\n",
       "      <th>29</th>\n",
       "      <td>0.807631</td>\n",
       "    </tr>\n",
       "  </tbody>\n",
       "</table>\n",
       "</div>"
      ],
      "text/plain": [
       "    Confidence_Score\n",
       "0           0.397965\n",
       "1           1.033114\n",
       "2           0.397219\n",
       "3           0.320688\n",
       "4           0.333100\n",
       "5           0.514339\n",
       "6           0.419319\n",
       "7           0.390828\n",
       "8           0.483451\n",
       "9           0.439728\n",
       "10          0.360679\n",
       "11          0.452741\n",
       "12          0.352061\n",
       "13          0.861117\n",
       "14          0.878221\n",
       "15          0.450934\n",
       "16          0.468652\n",
       "17          0.391261\n",
       "18          0.387084\n",
       "19          0.467045\n",
       "20          0.634694\n",
       "21          0.838349\n",
       "22          0.624569\n",
       "23          0.408845\n",
       "24          0.399069\n",
       "25          0.520869\n",
       "26          0.463130\n",
       "27          0.332981\n",
       "28          0.901307\n",
       "29          0.807631"
      ]
     },
     "execution_count": 149,
     "metadata": {},
     "output_type": "execute_result"
    }
   ],
   "source": [
    "confidencedf.head(30)"
   ]
  },
  {
   "cell_type": "code",
   "execution_count": 175,
   "metadata": {},
   "outputs": [
    {
     "name": "stdout",
     "output_type": "stream",
     "text": [
      "0.631578947368421\n"
     ]
    }
   ],
   "source": [
    "#  functions for accuracy based on high and low confidence projections\n",
    "highconfidencedf = confidencedf[confidencedf['Confidence_Score'] >.95]\n",
    "\n",
    "highconfidencedf = highconfidencedf.merge(predictionsdf, left_index=True, right_index=True, how='outer')\n",
    "highconfidencedf.dropna(axis=0, how='any', inplace=True)\n",
    "\n",
    "\n",
    "highconfidenceaccuracy = accuracy_score(highconfidencedf['Win_Home'], highconfidencedf['Prediction'])\n",
    "print(highconfidenceaccuracy)"
   ]
  },
  {
   "cell_type": "code",
   "execution_count": 172,
   "metadata": {},
   "outputs": [
    {
     "data": {
      "text/plain": [
       "138"
      ]
     },
     "execution_count": 172,
     "metadata": {},
     "output_type": "execute_result"
    }
   ],
   "source": [
    "len(highconfidencedf)"
   ]
  },
  {
   "cell_type": "code",
   "execution_count": null,
   "metadata": {},
   "outputs": [],
   "source": []
  }
 ],
 "metadata": {
  "interpreter": {
   "hash": "92657ca4b7caffcc106ecd18ce7390aa60f9d1d2335a91e3d100b066ab2851d9"
  },
  "kernelspec": {
   "display_name": "Python 3.6.13 ('ssl')",
   "language": "python",
   "name": "python3"
  },
  "language_info": {
   "codemirror_mode": {
    "name": "ipython",
    "version": 3
   },
   "file_extension": ".py",
   "mimetype": "text/x-python",
   "name": "python",
   "nbconvert_exporter": "python",
   "pygments_lexer": "ipython3",
   "version": "3.6.13"
  },
  "orig_nbformat": 4
 },
 "nbformat": 4,
 "nbformat_minor": 2
}
