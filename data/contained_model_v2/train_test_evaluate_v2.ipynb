{
 "cells": [
  {
   "cell_type": "code",
   "execution_count": 1,
   "metadata": {},
   "outputs": [],
   "source": [
    "import pandas as pd\n",
    "import numpy as np\n",
    "import seaborn as sns\n",
    "import os\n",
    "from sportsipy.ncaab import boxscore\n",
    "from sportsipy.ncaab.teams import Teams\n",
    "from sportsipy.ncaab.teams import Team\n",
    "\n",
    "df1 = pd.read_csv('./2018-2019_pregamestatsfinal.csv')\n",
    "df2 = pd.read_csv('./2019-2020_pregamestatsfinal.csv')"
   ]
  },
  {
   "cell_type": "code",
   "execution_count": 2,
   "metadata": {},
   "outputs": [],
   "source": [
    "df = pd.concat([df1, df2])"
   ]
  },
  {
   "cell_type": "code",
   "execution_count": 3,
   "metadata": {},
   "outputs": [],
   "source": [
    "df.drop(columns=['conf', 'location', 'homeindex'], inplace=True)"
   ]
  },
  {
   "cell_type": "code",
   "execution_count": 4,
   "metadata": {},
   "outputs": [
    {
     "name": "stdout",
     "output_type": "stream",
     "text": [
      "10789   1618   9171\n"
     ]
    },
    {
     "data": {
      "text/html": [
       "<div>\n",
       "<style scoped>\n",
       "    .dataframe tbody tr th:only-of-type {\n",
       "        vertical-align: middle;\n",
       "    }\n",
       "\n",
       "    .dataframe tbody tr th {\n",
       "        vertical-align: top;\n",
       "    }\n",
       "\n",
       "    .dataframe thead th {\n",
       "        text-align: right;\n",
       "    }\n",
       "</style>\n",
       "<table border=\"1\" class=\"dataframe\">\n",
       "  <thead>\n",
       "    <tr style=\"text-align: right;\">\n",
       "      <th></th>\n",
       "      <th>boxscore</th>\n",
       "      <th>date</th>\n",
       "      <th>losing_abbr</th>\n",
       "      <th>losing_name</th>\n",
       "      <th>winning_abbr</th>\n",
       "      <th>winning_name</th>\n",
       "      <th>team_name</th>\n",
       "      <th>winner</th>\n",
       "      <th>home_team</th>\n",
       "      <th>away_team</th>\n",
       "      <th>home_team_name</th>\n",
       "      <th>away_team_name</th>\n",
       "      <th>away_pregame_eFG</th>\n",
       "      <th>away_pregame_rebound_percentage</th>\n",
       "      <th>away_pregame_eFG_allowed</th>\n",
       "      <th>away_pregame_win_percentage</th>\n",
       "      <th>home_pregame_eFG</th>\n",
       "      <th>home_pregame_rebound_percentage</th>\n",
       "      <th>home_pregame_eFG_allowed</th>\n",
       "      <th>home_pregame_win_percentage</th>\n",
       "    </tr>\n",
       "  </thead>\n",
       "  <tbody>\n",
       "    <tr>\n",
       "      <th>0</th>\n",
       "      <td>2018-11-15-21-texas-christian</td>\n",
       "      <td>November 15, 2018</td>\n",
       "      <td>FRESNO-STATE</td>\n",
       "      <td>Fresno State</td>\n",
       "      <td>TEXAS-CHRISTIAN</td>\n",
       "      <td>TCU</td>\n",
       "      <td>TCU</td>\n",
       "      <td>Home</td>\n",
       "      <td>TEXAS-CHRISTIAN</td>\n",
       "      <td>FRESNO-STATE</td>\n",
       "      <td>TCU</td>\n",
       "      <td>Fresno State</td>\n",
       "      <td>0.573770</td>\n",
       "      <td>0.453333</td>\n",
       "      <td>0.400000</td>\n",
       "      <td>1.000000</td>\n",
       "      <td>0.532710</td>\n",
       "      <td>0.571429</td>\n",
       "      <td>0.421488</td>\n",
       "      <td>1.000000</td>\n",
       "    </tr>\n",
       "    <tr>\n",
       "      <th>1</th>\n",
       "      <td>2018-11-23-14-fresno-state</td>\n",
       "      <td>November 23, 2018</td>\n",
       "      <td>FRESNO-STATE</td>\n",
       "      <td>Fresno State</td>\n",
       "      <td>MIAMI-FL</td>\n",
       "      <td>Miami (FL)</td>\n",
       "      <td>Miami (FL)</td>\n",
       "      <td>Away</td>\n",
       "      <td>MIAMI-FL</td>\n",
       "      <td>FRESNO-STATE</td>\n",
       "      <td>Miami (FL)</td>\n",
       "      <td>Fresno State</td>\n",
       "      <td>0.533333</td>\n",
       "      <td>0.474747</td>\n",
       "      <td>0.462644</td>\n",
       "      <td>0.666667</td>\n",
       "      <td>0.546000</td>\n",
       "      <td>0.527273</td>\n",
       "      <td>0.427386</td>\n",
       "      <td>1.000000</td>\n",
       "    </tr>\n",
       "    <tr>\n",
       "      <th>3</th>\n",
       "      <td>2019-01-12-20-fresno-state</td>\n",
       "      <td>January 12, 2019</td>\n",
       "      <td>FRESNO-STATE</td>\n",
       "      <td>Fresno State</td>\n",
       "      <td>NEVADA</td>\n",
       "      <td>Nevada</td>\n",
       "      <td>Nevada</td>\n",
       "      <td>Away</td>\n",
       "      <td>NEVADA</td>\n",
       "      <td>FRESNO-STATE</td>\n",
       "      <td>Nevada</td>\n",
       "      <td>Fresno State</td>\n",
       "      <td>0.553047</td>\n",
       "      <td>0.516495</td>\n",
       "      <td>0.465171</td>\n",
       "      <td>0.800000</td>\n",
       "      <td>0.531746</td>\n",
       "      <td>0.519409</td>\n",
       "      <td>0.463843</td>\n",
       "      <td>0.937500</td>\n",
       "    </tr>\n",
       "    <tr>\n",
       "      <th>4</th>\n",
       "      <td>2019-02-23-20-nevada</td>\n",
       "      <td>February 23, 2019</td>\n",
       "      <td>FRESNO-STATE</td>\n",
       "      <td>Fresno State</td>\n",
       "      <td>NEVADA</td>\n",
       "      <td>Nevada</td>\n",
       "      <td>Nevada</td>\n",
       "      <td>Home</td>\n",
       "      <td>NEVADA</td>\n",
       "      <td>FRESNO-STATE</td>\n",
       "      <td>Nevada</td>\n",
       "      <td>Fresno State</td>\n",
       "      <td>0.541306</td>\n",
       "      <td>0.515098</td>\n",
       "      <td>0.473576</td>\n",
       "      <td>0.730769</td>\n",
       "      <td>0.539457</td>\n",
       "      <td>0.524355</td>\n",
       "      <td>0.464958</td>\n",
       "      <td>0.923077</td>\n",
       "    </tr>\n",
       "    <tr>\n",
       "      <th>5</th>\n",
       "      <td>2019-01-26-16-colorado-state</td>\n",
       "      <td>January 26, 2019</td>\n",
       "      <td>FRESNO-STATE</td>\n",
       "      <td>Fresno State</td>\n",
       "      <td>COLORADO-STATE</td>\n",
       "      <td>Colorado State</td>\n",
       "      <td>Colorado State</td>\n",
       "      <td>Home</td>\n",
       "      <td>COLORADO-STATE</td>\n",
       "      <td>FRESNO-STATE</td>\n",
       "      <td>Colorado State</td>\n",
       "      <td>Fresno State</td>\n",
       "      <td>0.546021</td>\n",
       "      <td>0.521249</td>\n",
       "      <td>0.466043</td>\n",
       "      <td>0.777778</td>\n",
       "      <td>0.536078</td>\n",
       "      <td>0.492695</td>\n",
       "      <td>0.538396</td>\n",
       "      <td>0.368421</td>\n",
       "    </tr>\n",
       "  </tbody>\n",
       "</table>\n",
       "</div>"
      ],
      "text/plain": [
       "                        boxscore               date   losing_abbr  \\\n",
       "0  2018-11-15-21-texas-christian  November 15, 2018  FRESNO-STATE   \n",
       "1     2018-11-23-14-fresno-state  November 23, 2018  FRESNO-STATE   \n",
       "3     2019-01-12-20-fresno-state   January 12, 2019  FRESNO-STATE   \n",
       "4           2019-02-23-20-nevada  February 23, 2019  FRESNO-STATE   \n",
       "5   2019-01-26-16-colorado-state   January 26, 2019  FRESNO-STATE   \n",
       "\n",
       "    losing_name     winning_abbr    winning_name       team_name winner  \\\n",
       "0  Fresno State  TEXAS-CHRISTIAN             TCU             TCU   Home   \n",
       "1  Fresno State         MIAMI-FL      Miami (FL)      Miami (FL)   Away   \n",
       "3  Fresno State           NEVADA          Nevada          Nevada   Away   \n",
       "4  Fresno State           NEVADA          Nevada          Nevada   Home   \n",
       "5  Fresno State   COLORADO-STATE  Colorado State  Colorado State   Home   \n",
       "\n",
       "         home_team     away_team  home_team_name away_team_name  \\\n",
       "0  TEXAS-CHRISTIAN  FRESNO-STATE             TCU   Fresno State   \n",
       "1         MIAMI-FL  FRESNO-STATE      Miami (FL)   Fresno State   \n",
       "3           NEVADA  FRESNO-STATE          Nevada   Fresno State   \n",
       "4           NEVADA  FRESNO-STATE          Nevada   Fresno State   \n",
       "5   COLORADO-STATE  FRESNO-STATE  Colorado State   Fresno State   \n",
       "\n",
       "   away_pregame_eFG  away_pregame_rebound_percentage  \\\n",
       "0          0.573770                         0.453333   \n",
       "1          0.533333                         0.474747   \n",
       "3          0.553047                         0.516495   \n",
       "4          0.541306                         0.515098   \n",
       "5          0.546021                         0.521249   \n",
       "\n",
       "   away_pregame_eFG_allowed  away_pregame_win_percentage  home_pregame_eFG  \\\n",
       "0                  0.400000                     1.000000          0.532710   \n",
       "1                  0.462644                     0.666667          0.546000   \n",
       "3                  0.465171                     0.800000          0.531746   \n",
       "4                  0.473576                     0.730769          0.539457   \n",
       "5                  0.466043                     0.777778          0.536078   \n",
       "\n",
       "   home_pregame_rebound_percentage  home_pregame_eFG_allowed  \\\n",
       "0                         0.571429                  0.421488   \n",
       "1                         0.527273                  0.427386   \n",
       "3                         0.519409                  0.463843   \n",
       "4                         0.524355                  0.464958   \n",
       "5                         0.492695                  0.538396   \n",
       "\n",
       "   home_pregame_win_percentage  \n",
       "0                     1.000000  \n",
       "1                     1.000000  \n",
       "3                     0.937500  \n",
       "4                     0.923077  \n",
       "5                     0.368421  "
      ]
     },
     "execution_count": 4,
     "metadata": {},
     "output_type": "execute_result"
    }
   ],
   "source": [
    "# We have a population of just 2 seasons. It's dangerous to just take the back .15 of the games, they should be time-insensitive\n",
    "# We need to create a holdout sample to test with\n",
    "test_df = df.sample(frac = 0.15)\n",
    "\n",
    "train_df = pd.concat([test_df,df]).drop_duplicates(keep=False)\n",
    "\n",
    "print(len(df), ' ', len(test_df), ' ', len(train_df))\n",
    "\n",
    "train_df.head()\n"
   ]
  },
  {
   "cell_type": "code",
   "execution_count": 5,
   "metadata": {},
   "outputs": [
    {
     "data": {
      "text/html": [
       "<div>\n",
       "<style scoped>\n",
       "    .dataframe tbody tr th:only-of-type {\n",
       "        vertical-align: middle;\n",
       "    }\n",
       "\n",
       "    .dataframe tbody tr th {\n",
       "        vertical-align: top;\n",
       "    }\n",
       "\n",
       "    .dataframe thead th {\n",
       "        text-align: right;\n",
       "    }\n",
       "</style>\n",
       "<table border=\"1\" class=\"dataframe\">\n",
       "  <thead>\n",
       "    <tr style=\"text-align: right;\">\n",
       "      <th></th>\n",
       "      <th>boxscore</th>\n",
       "      <th>date</th>\n",
       "      <th>winner</th>\n",
       "      <th>away_pregame_eFG</th>\n",
       "      <th>away_pregame_rebound_percentage</th>\n",
       "      <th>away_pregame_eFG_allowed</th>\n",
       "      <th>away_pregame_win_percentage</th>\n",
       "      <th>home_pregame_eFG</th>\n",
       "      <th>home_pregame_rebound_percentage</th>\n",
       "      <th>home_pregame_eFG_allowed</th>\n",
       "      <th>home_pregame_win_percentage</th>\n",
       "    </tr>\n",
       "  </thead>\n",
       "  <tbody>\n",
       "    <tr>\n",
       "      <th>3101</th>\n",
       "      <td>2019-02-20-19-loyola-il</td>\n",
       "      <td>February 20, 2019</td>\n",
       "      <td>Home</td>\n",
       "      <td>0.496003</td>\n",
       "      <td>0.472313</td>\n",
       "      <td>0.494077</td>\n",
       "      <td>0.370370</td>\n",
       "      <td>0.558647</td>\n",
       "      <td>0.509396</td>\n",
       "      <td>0.512319</td>\n",
       "      <td>0.592593</td>\n",
       "    </tr>\n",
       "    <tr>\n",
       "      <th>2580</th>\n",
       "      <td>2019-12-08-14-akron</td>\n",
       "      <td>December 8, 2019</td>\n",
       "      <td>Home</td>\n",
       "      <td>0.484906</td>\n",
       "      <td>0.530726</td>\n",
       "      <td>0.545024</td>\n",
       "      <td>0.375000</td>\n",
       "      <td>0.493737</td>\n",
       "      <td>0.520000</td>\n",
       "      <td>0.409820</td>\n",
       "      <td>0.750000</td>\n",
       "    </tr>\n",
       "    <tr>\n",
       "      <th>2416</th>\n",
       "      <td>2020-03-03-21-iowa</td>\n",
       "      <td>March 3, 2020</td>\n",
       "      <td>Away</td>\n",
       "      <td>0.516193</td>\n",
       "      <td>0.516529</td>\n",
       "      <td>0.494624</td>\n",
       "      <td>0.689655</td>\n",
       "      <td>0.482421</td>\n",
       "      <td>0.535398</td>\n",
       "      <td>0.470207</td>\n",
       "      <td>0.517241</td>\n",
       "    </tr>\n",
       "    <tr>\n",
       "      <th>1027</th>\n",
       "      <td>2020-02-20-19-wichita-state</td>\n",
       "      <td>February 20, 2020</td>\n",
       "      <td>Home</td>\n",
       "      <td>0.469824</td>\n",
       "      <td>0.523288</td>\n",
       "      <td>0.509342</td>\n",
       "      <td>0.440000</td>\n",
       "      <td>0.471410</td>\n",
       "      <td>0.538053</td>\n",
       "      <td>0.442671</td>\n",
       "      <td>0.760000</td>\n",
       "    </tr>\n",
       "    <tr>\n",
       "      <th>5085</th>\n",
       "      <td>2019-01-10-19-detroit-mercy</td>\n",
       "      <td>January 10, 2019</td>\n",
       "      <td>Home</td>\n",
       "      <td>0.522599</td>\n",
       "      <td>0.471354</td>\n",
       "      <td>0.510214</td>\n",
       "      <td>0.562500</td>\n",
       "      <td>0.483042</td>\n",
       "      <td>0.437558</td>\n",
       "      <td>0.514583</td>\n",
       "      <td>0.375000</td>\n",
       "    </tr>\n",
       "  </tbody>\n",
       "</table>\n",
       "</div>"
      ],
      "text/plain": [
       "                         boxscore               date winner  away_pregame_eFG  \\\n",
       "3101      2019-02-20-19-loyola-il  February 20, 2019   Home          0.496003   \n",
       "2580          2019-12-08-14-akron   December 8, 2019   Home          0.484906   \n",
       "2416           2020-03-03-21-iowa      March 3, 2020   Away          0.516193   \n",
       "1027  2020-02-20-19-wichita-state  February 20, 2020   Home          0.469824   \n",
       "5085  2019-01-10-19-detroit-mercy   January 10, 2019   Home          0.522599   \n",
       "\n",
       "      away_pregame_rebound_percentage  away_pregame_eFG_allowed  \\\n",
       "3101                         0.472313                  0.494077   \n",
       "2580                         0.530726                  0.545024   \n",
       "2416                         0.516529                  0.494624   \n",
       "1027                         0.523288                  0.509342   \n",
       "5085                         0.471354                  0.510214   \n",
       "\n",
       "      away_pregame_win_percentage  home_pregame_eFG  \\\n",
       "3101                     0.370370          0.558647   \n",
       "2580                     0.375000          0.493737   \n",
       "2416                     0.689655          0.482421   \n",
       "1027                     0.440000          0.471410   \n",
       "5085                     0.562500          0.483042   \n",
       "\n",
       "      home_pregame_rebound_percentage  home_pregame_eFG_allowed  \\\n",
       "3101                         0.509396                  0.512319   \n",
       "2580                         0.520000                  0.409820   \n",
       "2416                         0.535398                  0.470207   \n",
       "1027                         0.538053                  0.442671   \n",
       "5085                         0.437558                  0.514583   \n",
       "\n",
       "      home_pregame_win_percentage  \n",
       "3101                     0.592593  \n",
       "2580                     0.750000  \n",
       "2416                     0.517241  \n",
       "1027                     0.760000  \n",
       "5085                     0.375000  "
      ]
     },
     "execution_count": 5,
     "metadata": {},
     "output_type": "execute_result"
    }
   ],
   "source": [
    "# Dropping irrelevant columns\n",
    "train_df.drop(columns=['home_team_name', 'away_team_name', 'team_name', 'winning_abbr', 'winning_name', 'losing_name', 'losing_abbr', 'home_team', 'away_team'], inplace=True)\n",
    "test_df.drop(columns=['home_team_name', 'away_team_name', 'team_name', 'winning_abbr', 'winning_name', 'losing_name', 'losing_abbr', 'home_team', 'away_team'], inplace=True)\n",
    "\n",
    "test_df.head()"
   ]
  },
  {
   "cell_type": "code",
   "execution_count": 7,
   "metadata": {},
   "outputs": [
    {
     "data": {
      "text/plain": [
       "boxscore                            0\n",
       "date                                0\n",
       "winner                              0\n",
       "away_pregame_eFG                   92\n",
       "away_pregame_rebound_percentage    92\n",
       "away_pregame_eFG_allowed           92\n",
       "away_pregame_win_percentage        92\n",
       "home_pregame_eFG                   99\n",
       "home_pregame_rebound_percentage    99\n",
       "home_pregame_eFG_allowed           99\n",
       "home_pregame_win_percentage        99\n",
       "dtype: int64"
      ]
     },
     "execution_count": 7,
     "metadata": {},
     "output_type": "execute_result"
    }
   ],
   "source": [
    "test_df.isnull().sum()"
   ]
  },
  {
   "cell_type": "code",
   "execution_count": null,
   "metadata": {},
   "outputs": [],
   "source": [
    "import matplotlib.pyplot as plt \n",
    "plt.figure(figsize=(8,6))\n",
    "sns.set_style(\"whitegrid\")\n",
    "sns.countplot(x='winner', data= train_df)"
   ]
  },
  {
   "cell_type": "code",
   "execution_count": 8,
   "metadata": {},
   "outputs": [],
   "source": [
    "#train_df['away_pregame_eFG'].plot(kind='box', figsize= (10,8))\n",
    "\n",
    "# Create bool masks where home team won - we will use this to get 1 and 0 for the results\n",
    "winnermask1 = (test_df['winner'] == 'Home')\n",
    "winnermask2 = (train_df['winner'] == 'Home')\n"
   ]
  },
  {
   "cell_type": "code",
   "execution_count": 9,
   "metadata": {},
   "outputs": [],
   "source": [
    "# Setting a new column equal to the bool mask of winner = Home\n",
    "train_df['Home_Win'] = (train_df['winner'] == 'Home')\n",
    "test_df['Home_Win'] = (test_df['winner'] == 'Home')"
   ]
  },
  {
   "cell_type": "code",
   "execution_count": null,
   "metadata": {},
   "outputs": [],
   "source": [
    "test_df.head()"
   ]
  },
  {
   "cell_type": "code",
   "execution_count": 10,
   "metadata": {},
   "outputs": [],
   "source": [
    "\n",
    "#Turning the True/False into 1/0\n",
    "train_df[\"Home_Win\"] = train_df[\"Home_Win\"].astype(int)\n",
    "test_df[\"Home_Win\"] = test_df[\"Home_Win\"].astype(int)\n",
    "\n"
   ]
  },
  {
   "cell_type": "code",
   "execution_count": 11,
   "metadata": {},
   "outputs": [
    {
     "data": {
      "text/html": [
       "<div>\n",
       "<style scoped>\n",
       "    .dataframe tbody tr th:only-of-type {\n",
       "        vertical-align: middle;\n",
       "    }\n",
       "\n",
       "    .dataframe tbody tr th {\n",
       "        vertical-align: top;\n",
       "    }\n",
       "\n",
       "    .dataframe thead th {\n",
       "        text-align: right;\n",
       "    }\n",
       "</style>\n",
       "<table border=\"1\" class=\"dataframe\">\n",
       "  <thead>\n",
       "    <tr style=\"text-align: right;\">\n",
       "      <th></th>\n",
       "      <th>boxscore</th>\n",
       "      <th>date</th>\n",
       "      <th>winner</th>\n",
       "      <th>away_pregame_eFG</th>\n",
       "      <th>away_pregame_rebound_percentage</th>\n",
       "      <th>away_pregame_eFG_allowed</th>\n",
       "      <th>away_pregame_win_percentage</th>\n",
       "      <th>home_pregame_eFG</th>\n",
       "      <th>home_pregame_rebound_percentage</th>\n",
       "      <th>home_pregame_eFG_allowed</th>\n",
       "      <th>home_pregame_win_percentage</th>\n",
       "      <th>Home_Win</th>\n",
       "    </tr>\n",
       "  </thead>\n",
       "  <tbody>\n",
       "    <tr>\n",
       "      <th>3101</th>\n",
       "      <td>2019-02-20-19-loyola-il</td>\n",
       "      <td>February 20, 2019</td>\n",
       "      <td>Home</td>\n",
       "      <td>0.496003</td>\n",
       "      <td>0.472313</td>\n",
       "      <td>0.494077</td>\n",
       "      <td>0.370370</td>\n",
       "      <td>0.558647</td>\n",
       "      <td>0.509396</td>\n",
       "      <td>0.512319</td>\n",
       "      <td>0.592593</td>\n",
       "      <td>1</td>\n",
       "    </tr>\n",
       "    <tr>\n",
       "      <th>2580</th>\n",
       "      <td>2019-12-08-14-akron</td>\n",
       "      <td>December 8, 2019</td>\n",
       "      <td>Home</td>\n",
       "      <td>0.484906</td>\n",
       "      <td>0.530726</td>\n",
       "      <td>0.545024</td>\n",
       "      <td>0.375000</td>\n",
       "      <td>0.493737</td>\n",
       "      <td>0.520000</td>\n",
       "      <td>0.409820</td>\n",
       "      <td>0.750000</td>\n",
       "      <td>1</td>\n",
       "    </tr>\n",
       "    <tr>\n",
       "      <th>2416</th>\n",
       "      <td>2020-03-03-21-iowa</td>\n",
       "      <td>March 3, 2020</td>\n",
       "      <td>Away</td>\n",
       "      <td>0.516193</td>\n",
       "      <td>0.516529</td>\n",
       "      <td>0.494624</td>\n",
       "      <td>0.689655</td>\n",
       "      <td>0.482421</td>\n",
       "      <td>0.535398</td>\n",
       "      <td>0.470207</td>\n",
       "      <td>0.517241</td>\n",
       "      <td>0</td>\n",
       "    </tr>\n",
       "    <tr>\n",
       "      <th>1027</th>\n",
       "      <td>2020-02-20-19-wichita-state</td>\n",
       "      <td>February 20, 2020</td>\n",
       "      <td>Home</td>\n",
       "      <td>0.469824</td>\n",
       "      <td>0.523288</td>\n",
       "      <td>0.509342</td>\n",
       "      <td>0.440000</td>\n",
       "      <td>0.471410</td>\n",
       "      <td>0.538053</td>\n",
       "      <td>0.442671</td>\n",
       "      <td>0.760000</td>\n",
       "      <td>1</td>\n",
       "    </tr>\n",
       "    <tr>\n",
       "      <th>5085</th>\n",
       "      <td>2019-01-10-19-detroit-mercy</td>\n",
       "      <td>January 10, 2019</td>\n",
       "      <td>Home</td>\n",
       "      <td>0.522599</td>\n",
       "      <td>0.471354</td>\n",
       "      <td>0.510214</td>\n",
       "      <td>0.562500</td>\n",
       "      <td>0.483042</td>\n",
       "      <td>0.437558</td>\n",
       "      <td>0.514583</td>\n",
       "      <td>0.375000</td>\n",
       "      <td>1</td>\n",
       "    </tr>\n",
       "  </tbody>\n",
       "</table>\n",
       "</div>"
      ],
      "text/plain": [
       "                         boxscore               date winner  away_pregame_eFG  \\\n",
       "3101      2019-02-20-19-loyola-il  February 20, 2019   Home          0.496003   \n",
       "2580          2019-12-08-14-akron   December 8, 2019   Home          0.484906   \n",
       "2416           2020-03-03-21-iowa      March 3, 2020   Away          0.516193   \n",
       "1027  2020-02-20-19-wichita-state  February 20, 2020   Home          0.469824   \n",
       "5085  2019-01-10-19-detroit-mercy   January 10, 2019   Home          0.522599   \n",
       "\n",
       "      away_pregame_rebound_percentage  away_pregame_eFG_allowed  \\\n",
       "3101                         0.472313                  0.494077   \n",
       "2580                         0.530726                  0.545024   \n",
       "2416                         0.516529                  0.494624   \n",
       "1027                         0.523288                  0.509342   \n",
       "5085                         0.471354                  0.510214   \n",
       "\n",
       "      away_pregame_win_percentage  home_pregame_eFG  \\\n",
       "3101                     0.370370          0.558647   \n",
       "2580                     0.375000          0.493737   \n",
       "2416                     0.689655          0.482421   \n",
       "1027                     0.440000          0.471410   \n",
       "5085                     0.562500          0.483042   \n",
       "\n",
       "      home_pregame_rebound_percentage  home_pregame_eFG_allowed  \\\n",
       "3101                         0.509396                  0.512319   \n",
       "2580                         0.520000                  0.409820   \n",
       "2416                         0.535398                  0.470207   \n",
       "1027                         0.538053                  0.442671   \n",
       "5085                         0.437558                  0.514583   \n",
       "\n",
       "      home_pregame_win_percentage  Home_Win  \n",
       "3101                     0.592593         1  \n",
       "2580                     0.750000         1  \n",
       "2416                     0.517241         0  \n",
       "1027                     0.760000         1  \n",
       "5085                     0.375000         1  "
      ]
     },
     "execution_count": 11,
     "metadata": {},
     "output_type": "execute_result"
    }
   ],
   "source": [
    "test_df.head()"
   ]
  },
  {
   "cell_type": "code",
   "execution_count": 12,
   "metadata": {},
   "outputs": [
    {
     "ename": "KeyError",
     "evalue": "9171",
     "output_type": "error",
     "traceback": [
      "\u001b[1;31m---------------------------------------------------------------------------\u001b[0m",
      "\u001b[1;31mValueError\u001b[0m                                Traceback (most recent call last)",
      "\u001b[1;32m~\\anaconda3\\envs\\ssl\\lib\\site-packages\\pandas\\core\\indexes\\range.py\u001b[0m in \u001b[0;36mget_loc\u001b[1;34m(self, key, method, tolerance)\u001b[0m\n\u001b[0;32m    354\u001b[0m                 \u001b[1;32mtry\u001b[0m\u001b[1;33m:\u001b[0m\u001b[1;33m\u001b[0m\u001b[1;33m\u001b[0m\u001b[0m\n\u001b[1;32m--> 355\u001b[1;33m                     \u001b[1;32mreturn\u001b[0m \u001b[0mself\u001b[0m\u001b[1;33m.\u001b[0m\u001b[0m_range\u001b[0m\u001b[1;33m.\u001b[0m\u001b[0mindex\u001b[0m\u001b[1;33m(\u001b[0m\u001b[0mnew_key\u001b[0m\u001b[1;33m)\u001b[0m\u001b[1;33m\u001b[0m\u001b[1;33m\u001b[0m\u001b[0m\n\u001b[0m\u001b[0;32m    356\u001b[0m                 \u001b[1;32mexcept\u001b[0m \u001b[0mValueError\u001b[0m \u001b[1;32mas\u001b[0m \u001b[0merr\u001b[0m\u001b[1;33m:\u001b[0m\u001b[1;33m\u001b[0m\u001b[1;33m\u001b[0m\u001b[0m\n",
      "\u001b[1;31mValueError\u001b[0m: 9171 is not in range",
      "\nThe above exception was the direct cause of the following exception:\n",
      "\u001b[1;31mKeyError\u001b[0m                                  Traceback (most recent call last)",
      "\u001b[1;32m<ipython-input-12-f88748b27a9a>\u001b[0m in \u001b[0;36m<module>\u001b[1;34m\u001b[0m\n\u001b[0;32m      3\u001b[0m \u001b[1;33m\u001b[0m\u001b[0m\n\u001b[0;32m      4\u001b[0m \u001b[1;32mfor\u001b[0m \u001b[0mi\u001b[0m \u001b[1;32min\u001b[0m \u001b[0mrange\u001b[0m\u001b[1;33m(\u001b[0m\u001b[1;36m0\u001b[0m\u001b[1;33m,\u001b[0m\u001b[1;36m10000\u001b[0m\u001b[1;33m)\u001b[0m\u001b[1;33m:\u001b[0m\u001b[1;33m\u001b[0m\u001b[1;33m\u001b[0m\u001b[0m\n\u001b[1;32m----> 5\u001b[1;33m     \u001b[0mdatestring\u001b[0m \u001b[1;33m=\u001b[0m \u001b[0mtrain_df\u001b[0m\u001b[1;33m.\u001b[0m\u001b[0mat\u001b[0m\u001b[1;33m[\u001b[0m\u001b[0mi\u001b[0m\u001b[1;33m,\u001b[0m \u001b[1;34m'date'\u001b[0m\u001b[1;33m]\u001b[0m\u001b[1;33m\u001b[0m\u001b[1;33m\u001b[0m\u001b[0m\n\u001b[0m\u001b[0;32m      6\u001b[0m     \u001b[1;32mif\u001b[0m \u001b[1;34m'Novemb'\u001b[0m \u001b[1;32min\u001b[0m \u001b[0mdatestring\u001b[0m\u001b[1;33m:\u001b[0m\u001b[1;33m\u001b[0m\u001b[1;33m\u001b[0m\u001b[0m\n\u001b[0;32m      7\u001b[0m         \u001b[0mtrain_df\u001b[0m\u001b[1;33m.\u001b[0m\u001b[0mat\u001b[0m\u001b[1;33m[\u001b[0m\u001b[0mi\u001b[0m\u001b[1;33m,\u001b[0m \u001b[1;34m'month'\u001b[0m\u001b[1;33m]\u001b[0m \u001b[1;33m=\u001b[0m \u001b[1;34m'November'\u001b[0m\u001b[1;33m\u001b[0m\u001b[1;33m\u001b[0m\u001b[0m\n",
      "\u001b[1;32m~\\anaconda3\\envs\\ssl\\lib\\site-packages\\pandas\\core\\indexing.py\u001b[0m in \u001b[0;36m__getitem__\u001b[1;34m(self, key)\u001b[0m\n\u001b[0;32m   2076\u001b[0m             \u001b[1;32mreturn\u001b[0m \u001b[0mself\u001b[0m\u001b[1;33m.\u001b[0m\u001b[0mobj\u001b[0m\u001b[1;33m.\u001b[0m\u001b[0mloc\u001b[0m\u001b[1;33m[\u001b[0m\u001b[0mkey\u001b[0m\u001b[1;33m]\u001b[0m\u001b[1;33m\u001b[0m\u001b[1;33m\u001b[0m\u001b[0m\n\u001b[0;32m   2077\u001b[0m \u001b[1;33m\u001b[0m\u001b[0m\n\u001b[1;32m-> 2078\u001b[1;33m         \u001b[1;32mreturn\u001b[0m \u001b[0msuper\u001b[0m\u001b[1;33m(\u001b[0m\u001b[1;33m)\u001b[0m\u001b[1;33m.\u001b[0m\u001b[0m__getitem__\u001b[0m\u001b[1;33m(\u001b[0m\u001b[0mkey\u001b[0m\u001b[1;33m)\u001b[0m\u001b[1;33m\u001b[0m\u001b[1;33m\u001b[0m\u001b[0m\n\u001b[0m\u001b[0;32m   2079\u001b[0m \u001b[1;33m\u001b[0m\u001b[0m\n\u001b[0;32m   2080\u001b[0m     \u001b[1;32mdef\u001b[0m \u001b[0m__setitem__\u001b[0m\u001b[1;33m(\u001b[0m\u001b[0mself\u001b[0m\u001b[1;33m,\u001b[0m \u001b[0mkey\u001b[0m\u001b[1;33m,\u001b[0m \u001b[0mvalue\u001b[0m\u001b[1;33m)\u001b[0m\u001b[1;33m:\u001b[0m\u001b[1;33m\u001b[0m\u001b[1;33m\u001b[0m\u001b[0m\n",
      "\u001b[1;32m~\\anaconda3\\envs\\ssl\\lib\\site-packages\\pandas\\core\\indexing.py\u001b[0m in \u001b[0;36m__getitem__\u001b[1;34m(self, key)\u001b[0m\n\u001b[0;32m   2023\u001b[0m \u001b[1;33m\u001b[0m\u001b[0m\n\u001b[0;32m   2024\u001b[0m         \u001b[0mkey\u001b[0m \u001b[1;33m=\u001b[0m \u001b[0mself\u001b[0m\u001b[1;33m.\u001b[0m\u001b[0m_convert_key\u001b[0m\u001b[1;33m(\u001b[0m\u001b[0mkey\u001b[0m\u001b[1;33m)\u001b[0m\u001b[1;33m\u001b[0m\u001b[1;33m\u001b[0m\u001b[0m\n\u001b[1;32m-> 2025\u001b[1;33m         \u001b[1;32mreturn\u001b[0m \u001b[0mself\u001b[0m\u001b[1;33m.\u001b[0m\u001b[0mobj\u001b[0m\u001b[1;33m.\u001b[0m\u001b[0m_get_value\u001b[0m\u001b[1;33m(\u001b[0m\u001b[1;33m*\u001b[0m\u001b[0mkey\u001b[0m\u001b[1;33m,\u001b[0m \u001b[0mtakeable\u001b[0m\u001b[1;33m=\u001b[0m\u001b[0mself\u001b[0m\u001b[1;33m.\u001b[0m\u001b[0m_takeable\u001b[0m\u001b[1;33m)\u001b[0m\u001b[1;33m\u001b[0m\u001b[1;33m\u001b[0m\u001b[0m\n\u001b[0m\u001b[0;32m   2026\u001b[0m \u001b[1;33m\u001b[0m\u001b[0m\n\u001b[0;32m   2027\u001b[0m     \u001b[1;32mdef\u001b[0m \u001b[0m__setitem__\u001b[0m\u001b[1;33m(\u001b[0m\u001b[0mself\u001b[0m\u001b[1;33m,\u001b[0m \u001b[0mkey\u001b[0m\u001b[1;33m,\u001b[0m \u001b[0mvalue\u001b[0m\u001b[1;33m)\u001b[0m\u001b[1;33m:\u001b[0m\u001b[1;33m\u001b[0m\u001b[1;33m\u001b[0m\u001b[0m\n",
      "\u001b[1;32m~\\anaconda3\\envs\\ssl\\lib\\site-packages\\pandas\\core\\frame.py\u001b[0m in \u001b[0;36m_get_value\u001b[1;34m(self, index, col, takeable)\u001b[0m\n\u001b[0;32m   3023\u001b[0m         \u001b[1;31m# use positional\u001b[0m\u001b[1;33m\u001b[0m\u001b[1;33m\u001b[0m\u001b[1;33m\u001b[0m\u001b[0m\n\u001b[0;32m   3024\u001b[0m         \u001b[0mcol\u001b[0m \u001b[1;33m=\u001b[0m \u001b[0mself\u001b[0m\u001b[1;33m.\u001b[0m\u001b[0mcolumns\u001b[0m\u001b[1;33m.\u001b[0m\u001b[0mget_loc\u001b[0m\u001b[1;33m(\u001b[0m\u001b[0mcol\u001b[0m\u001b[1;33m)\u001b[0m\u001b[1;33m\u001b[0m\u001b[1;33m\u001b[0m\u001b[0m\n\u001b[1;32m-> 3025\u001b[1;33m         \u001b[0mindex\u001b[0m \u001b[1;33m=\u001b[0m \u001b[0mself\u001b[0m\u001b[1;33m.\u001b[0m\u001b[0mindex\u001b[0m\u001b[1;33m.\u001b[0m\u001b[0mget_loc\u001b[0m\u001b[1;33m(\u001b[0m\u001b[0mindex\u001b[0m\u001b[1;33m)\u001b[0m\u001b[1;33m\u001b[0m\u001b[1;33m\u001b[0m\u001b[0m\n\u001b[0m\u001b[0;32m   3026\u001b[0m         \u001b[1;32mreturn\u001b[0m \u001b[0mself\u001b[0m\u001b[1;33m.\u001b[0m\u001b[0m_get_value\u001b[0m\u001b[1;33m(\u001b[0m\u001b[0mindex\u001b[0m\u001b[1;33m,\u001b[0m \u001b[0mcol\u001b[0m\u001b[1;33m,\u001b[0m \u001b[0mtakeable\u001b[0m\u001b[1;33m=\u001b[0m\u001b[1;32mTrue\u001b[0m\u001b[1;33m)\u001b[0m\u001b[1;33m\u001b[0m\u001b[1;33m\u001b[0m\u001b[0m\n\u001b[0;32m   3027\u001b[0m \u001b[1;33m\u001b[0m\u001b[0m\n",
      "\u001b[1;32m~\\anaconda3\\envs\\ssl\\lib\\site-packages\\pandas\\core\\indexes\\range.py\u001b[0m in \u001b[0;36mget_loc\u001b[1;34m(self, key, method, tolerance)\u001b[0m\n\u001b[0;32m    355\u001b[0m                     \u001b[1;32mreturn\u001b[0m \u001b[0mself\u001b[0m\u001b[1;33m.\u001b[0m\u001b[0m_range\u001b[0m\u001b[1;33m.\u001b[0m\u001b[0mindex\u001b[0m\u001b[1;33m(\u001b[0m\u001b[0mnew_key\u001b[0m\u001b[1;33m)\u001b[0m\u001b[1;33m\u001b[0m\u001b[1;33m\u001b[0m\u001b[0m\n\u001b[0;32m    356\u001b[0m                 \u001b[1;32mexcept\u001b[0m \u001b[0mValueError\u001b[0m \u001b[1;32mas\u001b[0m \u001b[0merr\u001b[0m\u001b[1;33m:\u001b[0m\u001b[1;33m\u001b[0m\u001b[1;33m\u001b[0m\u001b[0m\n\u001b[1;32m--> 357\u001b[1;33m                     \u001b[1;32mraise\u001b[0m \u001b[0mKeyError\u001b[0m\u001b[1;33m(\u001b[0m\u001b[0mkey\u001b[0m\u001b[1;33m)\u001b[0m \u001b[1;32mfrom\u001b[0m \u001b[0merr\u001b[0m\u001b[1;33m\u001b[0m\u001b[1;33m\u001b[0m\u001b[0m\n\u001b[0m\u001b[0;32m    358\u001b[0m             \u001b[1;32mraise\u001b[0m \u001b[0mKeyError\u001b[0m\u001b[1;33m(\u001b[0m\u001b[0mkey\u001b[0m\u001b[1;33m)\u001b[0m\u001b[1;33m\u001b[0m\u001b[1;33m\u001b[0m\u001b[0m\n\u001b[0;32m    359\u001b[0m         \u001b[1;32mreturn\u001b[0m \u001b[0msuper\u001b[0m\u001b[1;33m(\u001b[0m\u001b[1;33m)\u001b[0m\u001b[1;33m.\u001b[0m\u001b[0mget_loc\u001b[0m\u001b[1;33m(\u001b[0m\u001b[0mkey\u001b[0m\u001b[1;33m,\u001b[0m \u001b[0mmethod\u001b[0m\u001b[1;33m=\u001b[0m\u001b[0mmethod\u001b[0m\u001b[1;33m,\u001b[0m \u001b[0mtolerance\u001b[0m\u001b[1;33m=\u001b[0m\u001b[0mtolerance\u001b[0m\u001b[1;33m)\u001b[0m\u001b[1;33m\u001b[0m\u001b[1;33m\u001b[0m\u001b[0m\n",
      "\u001b[1;31mKeyError\u001b[0m: 9171"
     ]
    }
   ],
   "source": [
    "# Creating a column that has the month the game took place in. Not sure whether this is 100% a good idea\n",
    "train_df.reset_index(inplace=True)\n",
    "\n",
    "for i in range(0,10000):\n",
    "    datestring = train_df.at[i, 'date']\n",
    "    if 'Novemb' in datestring:\n",
    "        train_df.at[i, 'month'] = 'November'\n",
    "    elif 'Dece' in datestring:\n",
    "        train_df.at[i, 'month'] = 'December'\n",
    "    elif 'Janu' in datestring:\n",
    "        train_df.at[i, 'month'] = 'January'\n",
    "    elif 'Febr' in datestring:\n",
    "        train_df.at[i, 'month'] = 'February'\n",
    "    elif 'Mar' in datestring:\n",
    "        train_df.at[i, 'month'] = 'March'\n",
    "    elif 'Apr' in datestring:\n",
    "        train_df.at[i, 'month'] = 'April'\n",
    "    else:\n",
    "        print('error')"
   ]
  },
  {
   "cell_type": "code",
   "execution_count": 13,
   "metadata": {},
   "outputs": [
    {
     "ename": "KeyError",
     "evalue": "1618",
     "output_type": "error",
     "traceback": [
      "\u001b[1;31m---------------------------------------------------------------------------\u001b[0m",
      "\u001b[1;31mValueError\u001b[0m                                Traceback (most recent call last)",
      "\u001b[1;32m~\\anaconda3\\envs\\ssl\\lib\\site-packages\\pandas\\core\\indexes\\range.py\u001b[0m in \u001b[0;36mget_loc\u001b[1;34m(self, key, method, tolerance)\u001b[0m\n\u001b[0;32m    354\u001b[0m                 \u001b[1;32mtry\u001b[0m\u001b[1;33m:\u001b[0m\u001b[1;33m\u001b[0m\u001b[1;33m\u001b[0m\u001b[0m\n\u001b[1;32m--> 355\u001b[1;33m                     \u001b[1;32mreturn\u001b[0m \u001b[0mself\u001b[0m\u001b[1;33m.\u001b[0m\u001b[0m_range\u001b[0m\u001b[1;33m.\u001b[0m\u001b[0mindex\u001b[0m\u001b[1;33m(\u001b[0m\u001b[0mnew_key\u001b[0m\u001b[1;33m)\u001b[0m\u001b[1;33m\u001b[0m\u001b[1;33m\u001b[0m\u001b[0m\n\u001b[0m\u001b[0;32m    356\u001b[0m                 \u001b[1;32mexcept\u001b[0m \u001b[0mValueError\u001b[0m \u001b[1;32mas\u001b[0m \u001b[0merr\u001b[0m\u001b[1;33m:\u001b[0m\u001b[1;33m\u001b[0m\u001b[1;33m\u001b[0m\u001b[0m\n",
      "\u001b[1;31mValueError\u001b[0m: 1618 is not in range",
      "\nThe above exception was the direct cause of the following exception:\n",
      "\u001b[1;31mKeyError\u001b[0m                                  Traceback (most recent call last)",
      "\u001b[1;32m<ipython-input-13-923681f03dcc>\u001b[0m in \u001b[0;36m<module>\u001b[1;34m\u001b[0m\n\u001b[0;32m      3\u001b[0m \u001b[1;33m\u001b[0m\u001b[0m\n\u001b[0;32m      4\u001b[0m \u001b[1;32mfor\u001b[0m \u001b[0mi\u001b[0m \u001b[1;32min\u001b[0m \u001b[0mrange\u001b[0m\u001b[1;33m(\u001b[0m\u001b[1;36m0\u001b[0m\u001b[1;33m,\u001b[0m\u001b[1;36m5000\u001b[0m\u001b[1;33m)\u001b[0m\u001b[1;33m:\u001b[0m\u001b[1;33m\u001b[0m\u001b[1;33m\u001b[0m\u001b[0m\n\u001b[1;32m----> 5\u001b[1;33m     \u001b[0mdatestring\u001b[0m \u001b[1;33m=\u001b[0m \u001b[0mtest_df\u001b[0m\u001b[1;33m.\u001b[0m\u001b[0mat\u001b[0m\u001b[1;33m[\u001b[0m\u001b[0mi\u001b[0m\u001b[1;33m,\u001b[0m \u001b[1;34m'date'\u001b[0m\u001b[1;33m]\u001b[0m\u001b[1;33m\u001b[0m\u001b[1;33m\u001b[0m\u001b[0m\n\u001b[0m\u001b[0;32m      6\u001b[0m     \u001b[1;32mif\u001b[0m \u001b[1;34m'Novemb'\u001b[0m \u001b[1;32min\u001b[0m \u001b[0mdatestring\u001b[0m\u001b[1;33m:\u001b[0m\u001b[1;33m\u001b[0m\u001b[1;33m\u001b[0m\u001b[0m\n\u001b[0;32m      7\u001b[0m         \u001b[0mtest_df\u001b[0m\u001b[1;33m.\u001b[0m\u001b[0mat\u001b[0m\u001b[1;33m[\u001b[0m\u001b[0mi\u001b[0m\u001b[1;33m,\u001b[0m \u001b[1;34m'month'\u001b[0m\u001b[1;33m]\u001b[0m \u001b[1;33m=\u001b[0m \u001b[1;34m'November'\u001b[0m\u001b[1;33m\u001b[0m\u001b[1;33m\u001b[0m\u001b[0m\n",
      "\u001b[1;32m~\\anaconda3\\envs\\ssl\\lib\\site-packages\\pandas\\core\\indexing.py\u001b[0m in \u001b[0;36m__getitem__\u001b[1;34m(self, key)\u001b[0m\n\u001b[0;32m   2076\u001b[0m             \u001b[1;32mreturn\u001b[0m \u001b[0mself\u001b[0m\u001b[1;33m.\u001b[0m\u001b[0mobj\u001b[0m\u001b[1;33m.\u001b[0m\u001b[0mloc\u001b[0m\u001b[1;33m[\u001b[0m\u001b[0mkey\u001b[0m\u001b[1;33m]\u001b[0m\u001b[1;33m\u001b[0m\u001b[1;33m\u001b[0m\u001b[0m\n\u001b[0;32m   2077\u001b[0m \u001b[1;33m\u001b[0m\u001b[0m\n\u001b[1;32m-> 2078\u001b[1;33m         \u001b[1;32mreturn\u001b[0m \u001b[0msuper\u001b[0m\u001b[1;33m(\u001b[0m\u001b[1;33m)\u001b[0m\u001b[1;33m.\u001b[0m\u001b[0m__getitem__\u001b[0m\u001b[1;33m(\u001b[0m\u001b[0mkey\u001b[0m\u001b[1;33m)\u001b[0m\u001b[1;33m\u001b[0m\u001b[1;33m\u001b[0m\u001b[0m\n\u001b[0m\u001b[0;32m   2079\u001b[0m \u001b[1;33m\u001b[0m\u001b[0m\n\u001b[0;32m   2080\u001b[0m     \u001b[1;32mdef\u001b[0m \u001b[0m__setitem__\u001b[0m\u001b[1;33m(\u001b[0m\u001b[0mself\u001b[0m\u001b[1;33m,\u001b[0m \u001b[0mkey\u001b[0m\u001b[1;33m,\u001b[0m \u001b[0mvalue\u001b[0m\u001b[1;33m)\u001b[0m\u001b[1;33m:\u001b[0m\u001b[1;33m\u001b[0m\u001b[1;33m\u001b[0m\u001b[0m\n",
      "\u001b[1;32m~\\anaconda3\\envs\\ssl\\lib\\site-packages\\pandas\\core\\indexing.py\u001b[0m in \u001b[0;36m__getitem__\u001b[1;34m(self, key)\u001b[0m\n\u001b[0;32m   2023\u001b[0m \u001b[1;33m\u001b[0m\u001b[0m\n\u001b[0;32m   2024\u001b[0m         \u001b[0mkey\u001b[0m \u001b[1;33m=\u001b[0m \u001b[0mself\u001b[0m\u001b[1;33m.\u001b[0m\u001b[0m_convert_key\u001b[0m\u001b[1;33m(\u001b[0m\u001b[0mkey\u001b[0m\u001b[1;33m)\u001b[0m\u001b[1;33m\u001b[0m\u001b[1;33m\u001b[0m\u001b[0m\n\u001b[1;32m-> 2025\u001b[1;33m         \u001b[1;32mreturn\u001b[0m \u001b[0mself\u001b[0m\u001b[1;33m.\u001b[0m\u001b[0mobj\u001b[0m\u001b[1;33m.\u001b[0m\u001b[0m_get_value\u001b[0m\u001b[1;33m(\u001b[0m\u001b[1;33m*\u001b[0m\u001b[0mkey\u001b[0m\u001b[1;33m,\u001b[0m \u001b[0mtakeable\u001b[0m\u001b[1;33m=\u001b[0m\u001b[0mself\u001b[0m\u001b[1;33m.\u001b[0m\u001b[0m_takeable\u001b[0m\u001b[1;33m)\u001b[0m\u001b[1;33m\u001b[0m\u001b[1;33m\u001b[0m\u001b[0m\n\u001b[0m\u001b[0;32m   2026\u001b[0m \u001b[1;33m\u001b[0m\u001b[0m\n\u001b[0;32m   2027\u001b[0m     \u001b[1;32mdef\u001b[0m \u001b[0m__setitem__\u001b[0m\u001b[1;33m(\u001b[0m\u001b[0mself\u001b[0m\u001b[1;33m,\u001b[0m \u001b[0mkey\u001b[0m\u001b[1;33m,\u001b[0m \u001b[0mvalue\u001b[0m\u001b[1;33m)\u001b[0m\u001b[1;33m:\u001b[0m\u001b[1;33m\u001b[0m\u001b[1;33m\u001b[0m\u001b[0m\n",
      "\u001b[1;32m~\\anaconda3\\envs\\ssl\\lib\\site-packages\\pandas\\core\\frame.py\u001b[0m in \u001b[0;36m_get_value\u001b[1;34m(self, index, col, takeable)\u001b[0m\n\u001b[0;32m   3023\u001b[0m         \u001b[1;31m# use positional\u001b[0m\u001b[1;33m\u001b[0m\u001b[1;33m\u001b[0m\u001b[1;33m\u001b[0m\u001b[0m\n\u001b[0;32m   3024\u001b[0m         \u001b[0mcol\u001b[0m \u001b[1;33m=\u001b[0m \u001b[0mself\u001b[0m\u001b[1;33m.\u001b[0m\u001b[0mcolumns\u001b[0m\u001b[1;33m.\u001b[0m\u001b[0mget_loc\u001b[0m\u001b[1;33m(\u001b[0m\u001b[0mcol\u001b[0m\u001b[1;33m)\u001b[0m\u001b[1;33m\u001b[0m\u001b[1;33m\u001b[0m\u001b[0m\n\u001b[1;32m-> 3025\u001b[1;33m         \u001b[0mindex\u001b[0m \u001b[1;33m=\u001b[0m \u001b[0mself\u001b[0m\u001b[1;33m.\u001b[0m\u001b[0mindex\u001b[0m\u001b[1;33m.\u001b[0m\u001b[0mget_loc\u001b[0m\u001b[1;33m(\u001b[0m\u001b[0mindex\u001b[0m\u001b[1;33m)\u001b[0m\u001b[1;33m\u001b[0m\u001b[1;33m\u001b[0m\u001b[0m\n\u001b[0m\u001b[0;32m   3026\u001b[0m         \u001b[1;32mreturn\u001b[0m \u001b[0mself\u001b[0m\u001b[1;33m.\u001b[0m\u001b[0m_get_value\u001b[0m\u001b[1;33m(\u001b[0m\u001b[0mindex\u001b[0m\u001b[1;33m,\u001b[0m \u001b[0mcol\u001b[0m\u001b[1;33m,\u001b[0m \u001b[0mtakeable\u001b[0m\u001b[1;33m=\u001b[0m\u001b[1;32mTrue\u001b[0m\u001b[1;33m)\u001b[0m\u001b[1;33m\u001b[0m\u001b[1;33m\u001b[0m\u001b[0m\n\u001b[0;32m   3027\u001b[0m \u001b[1;33m\u001b[0m\u001b[0m\n",
      "\u001b[1;32m~\\anaconda3\\envs\\ssl\\lib\\site-packages\\pandas\\core\\indexes\\range.py\u001b[0m in \u001b[0;36mget_loc\u001b[1;34m(self, key, method, tolerance)\u001b[0m\n\u001b[0;32m    355\u001b[0m                     \u001b[1;32mreturn\u001b[0m \u001b[0mself\u001b[0m\u001b[1;33m.\u001b[0m\u001b[0m_range\u001b[0m\u001b[1;33m.\u001b[0m\u001b[0mindex\u001b[0m\u001b[1;33m(\u001b[0m\u001b[0mnew_key\u001b[0m\u001b[1;33m)\u001b[0m\u001b[1;33m\u001b[0m\u001b[1;33m\u001b[0m\u001b[0m\n\u001b[0;32m    356\u001b[0m                 \u001b[1;32mexcept\u001b[0m \u001b[0mValueError\u001b[0m \u001b[1;32mas\u001b[0m \u001b[0merr\u001b[0m\u001b[1;33m:\u001b[0m\u001b[1;33m\u001b[0m\u001b[1;33m\u001b[0m\u001b[0m\n\u001b[1;32m--> 357\u001b[1;33m                     \u001b[1;32mraise\u001b[0m \u001b[0mKeyError\u001b[0m\u001b[1;33m(\u001b[0m\u001b[0mkey\u001b[0m\u001b[1;33m)\u001b[0m \u001b[1;32mfrom\u001b[0m \u001b[0merr\u001b[0m\u001b[1;33m\u001b[0m\u001b[1;33m\u001b[0m\u001b[0m\n\u001b[0m\u001b[0;32m    358\u001b[0m             \u001b[1;32mraise\u001b[0m \u001b[0mKeyError\u001b[0m\u001b[1;33m(\u001b[0m\u001b[0mkey\u001b[0m\u001b[1;33m)\u001b[0m\u001b[1;33m\u001b[0m\u001b[1;33m\u001b[0m\u001b[0m\n\u001b[0;32m    359\u001b[0m         \u001b[1;32mreturn\u001b[0m \u001b[0msuper\u001b[0m\u001b[1;33m(\u001b[0m\u001b[1;33m)\u001b[0m\u001b[1;33m.\u001b[0m\u001b[0mget_loc\u001b[0m\u001b[1;33m(\u001b[0m\u001b[0mkey\u001b[0m\u001b[1;33m,\u001b[0m \u001b[0mmethod\u001b[0m\u001b[1;33m=\u001b[0m\u001b[0mmethod\u001b[0m\u001b[1;33m,\u001b[0m \u001b[0mtolerance\u001b[0m\u001b[1;33m=\u001b[0m\u001b[0mtolerance\u001b[0m\u001b[1;33m)\u001b[0m\u001b[1;33m\u001b[0m\u001b[1;33m\u001b[0m\u001b[0m\n",
      "\u001b[1;31mKeyError\u001b[0m: 1618"
     ]
    }
   ],
   "source": [
    "# Do the same for the testing data\n",
    "test_df.reset_index(inplace=True)\n",
    "\n",
    "for i in range(0,5000):\n",
    "    datestring = test_df.at[i, 'date']\n",
    "    if 'Novemb' in datestring:\n",
    "        test_df.at[i, 'month'] = 'November'\n",
    "    elif 'Dece' in datestring:\n",
    "        test_df.at[i, 'month'] = 'December'\n",
    "    elif 'Janu' in datestring:\n",
    "        test_df.at[i, 'month'] = 'January'\n",
    "    elif 'Febr' in datestring:\n",
    "        test_df.at[i, 'month'] = 'February'\n",
    "    elif 'Mar' in datestring:\n",
    "        test_df.at[i, 'month'] = 'March'\n",
    "    elif 'Apr' in datestring:\n",
    "        test_df.at[i, 'month'] = 'April'\n",
    "    else:\n",
    "        print('error')\n"
   ]
  },
  {
   "cell_type": "code",
   "execution_count": 14,
   "metadata": {},
   "outputs": [],
   "source": [
    "train_df[\"date\"] = train_df[\"date\"].astype(\"datetime64\")\n",
    "test_df[\"date\"] = test_df[\"date\"].astype(\"datetime64\")\n"
   ]
  },
  {
   "cell_type": "code",
   "execution_count": 15,
   "metadata": {},
   "outputs": [
    {
     "data": {
      "text/plain": [
       "<AxesSubplot:xlabel='date'>"
      ]
     },
     "execution_count": 15,
     "metadata": {},
     "output_type": "execute_result"
    },
    {
     "data": {
      "image/png": "[encoded data removed]",
      "text/plain": [
       "<Figure size 432x288 with 1 Axes>"
      ]
     },
     "metadata": {
      "needs_background": "light"
     },
     "output_type": "display_data"
    }
   ],
   "source": [
    "testdates = test_df['date']\n",
    "testdates.groupby(testdates.dt.month).count().plot(kind='bar')"
   ]
  },
  {
   "cell_type": "code",
   "execution_count": 16,
   "metadata": {},
   "outputs": [
    {
     "data": {
      "text/plain": [
       "<AxesSubplot:xlabel='date'>"
      ]
     },
     "execution_count": 16,
     "metadata": {},
     "output_type": "execute_result"
    },
    {
     "data": {
      "image/png": "[encoded data removed]",
      "text/plain": [
       "<Figure size 432x288 with 1 Axes>"
      ]
     },
     "metadata": {
      "needs_background": "light"
     },
     "output_type": "display_data"
    }
   ],
   "source": [
    "traindates = train_df['date']\n",
    "traindates.groupby(traindates.dt.month).count().plot(kind='bar')"
   ]
  },
  {
   "cell_type": "code",
   "execution_count": 17,
   "metadata": {},
   "outputs": [],
   "source": [
    "# TODO: Drop the April games\n",
    "train_df = train_df[train_df['month'] != 'April']\n",
    "test_df = test_df[test_df['month'] != 'April']"
   ]
  },
  {
   "cell_type": "code",
   "execution_count": 18,
   "metadata": {},
   "outputs": [
    {
     "data": {
      "text/plain": [
       "<AxesSubplot:xlabel='date'>"
      ]
     },
     "execution_count": 18,
     "metadata": {},
     "output_type": "execute_result"
    },
    {
     "data": {
      "image/png": "[encoded data removed]",
      "text/plain": [
       "<Figure size 432x288 with 1 Axes>"
      ]
     },
     "metadata": {
      "needs_background": "light"
     },
     "output_type": "display_data"
    }
   ],
   "source": [
    "# Confirm that we are down to 5 months and the distributions are similar\n",
    "traindates = train_df['date']\n",
    "traindates.groupby(traindates.dt.month).count().plot(kind='bar')"
   ]
  },
  {
   "cell_type": "code",
   "execution_count": 19,
   "metadata": {},
   "outputs": [
    {
     "data": {
      "text/plain": [
       "<AxesSubplot:xlabel='date'>"
      ]
     },
     "execution_count": 19,
     "metadata": {},
     "output_type": "execute_result"
    },
    {
     "data": {
      "image/png": "[encoded data removed]",
      "text/plain": [
       "<Figure size 432x288 with 1 Axes>"
      ]
     },
     "metadata": {
      "needs_background": "light"
     },
     "output_type": "display_data"
    }
   ],
   "source": [
    "traindates = train_df['date']\n",
    "traindates.groupby(traindates.dt.month).count().plot(kind='bar')"
   ]
  },
  {
   "cell_type": "code",
   "execution_count": 20,
   "metadata": {},
   "outputs": [
    {
     "data": {
      "text/plain": [
       "<AxesSubplot:xlabel='date'>"
      ]
     },
     "execution_count": 20,
     "metadata": {},
     "output_type": "execute_result"
    },
    {
     "data": {
      "image/png": "[encoded data removed]",
      "text/plain": [
       "<Figure size 432x288 with 1 Axes>"
      ]
     },
     "metadata": {
      "needs_background": "light"
     },
     "output_type": "display_data"
    }
   ],
   "source": [
    "# Checking that test and train dfs have similar distributions by game\n",
    "testdates = test_df['date']\n",
    "testdates.groupby(testdates.dt.year).count().plot(kind='bar')"
   ]
  },
  {
   "cell_type": "code",
   "execution_count": 21,
   "metadata": {},
   "outputs": [
    {
     "data": {
      "text/plain": [
       "<AxesSubplot:xlabel='date'>"
      ]
     },
     "execution_count": 21,
     "metadata": {},
     "output_type": "execute_result"
    },
    {
     "data": {
      "image/png": "[encoded data removed]",
      "text/plain": [
       "<Figure size 432x288 with 1 Axes>"
      ]
     },
     "metadata": {
      "needs_background": "light"
     },
     "output_type": "display_data"
    }
   ],
   "source": [
    "traindates = train_df['date']\n",
    "traindates.groupby(traindates.dt.year).count().plot(kind='bar')"
   ]
  },
  {
   "cell_type": "code",
   "execution_count": 22,
   "metadata": {},
   "outputs": [
    {
     "name": "stdout",
     "output_type": "stream",
     "text": [
      "<class 'pandas.core.frame.DataFrame'>\n",
      "Int64Index: 1615 entries, 0 to 1617\n",
      "Data columns (total 14 columns):\n",
      " #   Column                           Non-Null Count  Dtype         \n",
      "---  ------                           --------------  -----         \n",
      " 0   index                            1615 non-null   int64         \n",
      " 1   boxscore                         1615 non-null   object        \n",
      " 2   date                             1615 non-null   datetime64[ns]\n",
      " 3   winner                           1615 non-null   object        \n",
      " 4   away_pregame_eFG                 1523 non-null   float64       \n",
      " 5   away_pregame_rebound_percentage  1523 non-null   float64       \n",
      " 6   away_pregame_eFG_allowed         1523 non-null   float64       \n",
      " 7   away_pregame_win_percentage      1523 non-null   float64       \n",
      " 8   home_pregame_eFG                 1516 non-null   float64       \n",
      " 9   home_pregame_rebound_percentage  1516 non-null   float64       \n",
      " 10  home_pregame_eFG_allowed         1516 non-null   float64       \n",
      " 11  home_pregame_win_percentage      1516 non-null   float64       \n",
      " 12  Home_Win                         1615 non-null   int32         \n",
      " 13  month                            1615 non-null   object        \n",
      "dtypes: datetime64[ns](1), float64(8), int32(1), int64(1), object(3)\n",
      "memory usage: 262.9+ KB\n"
     ]
    }
   ],
   "source": [
    "test_df.info()"
   ]
  },
  {
   "cell_type": "code",
   "execution_count": 23,
   "metadata": {},
   "outputs": [
    {
     "name": "stdout",
     "output_type": "stream",
     "text": [
      "<class 'pandas.core.frame.DataFrame'>\n",
      "Int64Index: 9162 entries, 0 to 9170\n",
      "Data columns (total 14 columns):\n",
      " #   Column                           Non-Null Count  Dtype         \n",
      "---  ------                           --------------  -----         \n",
      " 0   index                            9162 non-null   int64         \n",
      " 1   boxscore                         9162 non-null   object        \n",
      " 2   date                             9162 non-null   datetime64[ns]\n",
      " 3   winner                           9162 non-null   object        \n",
      " 4   away_pregame_eFG                 8763 non-null   float64       \n",
      " 5   away_pregame_rebound_percentage  8763 non-null   float64       \n",
      " 6   away_pregame_eFG_allowed         8763 non-null   float64       \n",
      " 7   away_pregame_win_percentage      8763 non-null   float64       \n",
      " 8   home_pregame_eFG                 8612 non-null   float64       \n",
      " 9   home_pregame_rebound_percentage  8612 non-null   float64       \n",
      " 10  home_pregame_eFG_allowed         8612 non-null   float64       \n",
      " 11  home_pregame_win_percentage      8612 non-null   float64       \n",
      " 12  Home_Win                         9162 non-null   int32         \n",
      " 13  month                            9162 non-null   object        \n",
      "dtypes: datetime64[ns](1), float64(8), int32(1), int64(1), object(3)\n",
      "memory usage: 1.3+ MB\n"
     ]
    }
   ],
   "source": [
    "train_df.info()"
   ]
  },
  {
   "cell_type": "code",
   "execution_count": 24,
   "metadata": {},
   "outputs": [
    {
     "name": "stderr",
     "output_type": "stream",
     "text": [
      "C:\\Users\\mason\\anaconda3\\envs\\ssl\\lib\\site-packages\\pandas\\core\\frame.py:4174: SettingWithCopyWarning: \n",
      "A value is trying to be set on a copy of a slice from a DataFrame\n",
      "\n",
      "See the caveats in the documentation: https://pandas.pydata.org/pandas-docs/stable/user_guide/indexing.html#returning-a-view-versus-a-copy\n",
      "  errors=errors,\n"
     ]
    }
   ],
   "source": [
    "# Drop irrelevant columns - might run into errors here\n",
    "test_df.head()\n",
    "train_df.drop(columns=['index', 'boxscore', 'date', 'winner'], inplace=True)\n",
    "test_df.drop(columns=['index', 'boxscore', 'date', 'winner'], inplace=True)\n"
   ]
  },
  {
   "cell_type": "code",
   "execution_count": null,
   "metadata": {},
   "outputs": [],
   "source": [
    "train_df.head()\n",
    "train_df[train_df['month'] != 'April']\n",
    "\n",
    "train_df.head()"
   ]
  },
  {
   "cell_type": "code",
   "execution_count": 25,
   "metadata": {},
   "outputs": [
    {
     "data": {
      "text/html": [
       "<div>\n",
       "<style scoped>\n",
       "    .dataframe tbody tr th:only-of-type {\n",
       "        vertical-align: middle;\n",
       "    }\n",
       "\n",
       "    .dataframe tbody tr th {\n",
       "        vertical-align: top;\n",
       "    }\n",
       "\n",
       "    .dataframe thead th {\n",
       "        text-align: right;\n",
       "    }\n",
       "</style>\n",
       "<table border=\"1\" class=\"dataframe\">\n",
       "  <thead>\n",
       "    <tr style=\"text-align: right;\">\n",
       "      <th></th>\n",
       "      <th>away_pregame_eFG</th>\n",
       "      <th>away_pregame_rebound_percentage</th>\n",
       "      <th>away_pregame_eFG_allowed</th>\n",
       "      <th>away_pregame_win_percentage</th>\n",
       "      <th>home_pregame_eFG</th>\n",
       "      <th>home_pregame_rebound_percentage</th>\n",
       "      <th>home_pregame_eFG_allowed</th>\n",
       "      <th>home_pregame_win_percentage</th>\n",
       "      <th>Home_Win</th>\n",
       "      <th>month</th>\n",
       "    </tr>\n",
       "  </thead>\n",
       "  <tbody>\n",
       "    <tr>\n",
       "      <th>0</th>\n",
       "      <td>0.573770</td>\n",
       "      <td>0.453333</td>\n",
       "      <td>0.400000</td>\n",
       "      <td>1.000000</td>\n",
       "      <td>0.532710</td>\n",
       "      <td>0.571429</td>\n",
       "      <td>0.421488</td>\n",
       "      <td>1.000000</td>\n",
       "      <td>1</td>\n",
       "      <td>November</td>\n",
       "    </tr>\n",
       "    <tr>\n",
       "      <th>1</th>\n",
       "      <td>0.533333</td>\n",
       "      <td>0.474747</td>\n",
       "      <td>0.462644</td>\n",
       "      <td>0.666667</td>\n",
       "      <td>0.546000</td>\n",
       "      <td>0.527273</td>\n",
       "      <td>0.427386</td>\n",
       "      <td>1.000000</td>\n",
       "      <td>0</td>\n",
       "      <td>November</td>\n",
       "    </tr>\n",
       "    <tr>\n",
       "      <th>2</th>\n",
       "      <td>0.553047</td>\n",
       "      <td>0.516495</td>\n",
       "      <td>0.465171</td>\n",
       "      <td>0.800000</td>\n",
       "      <td>0.531746</td>\n",
       "      <td>0.519409</td>\n",
       "      <td>0.463843</td>\n",
       "      <td>0.937500</td>\n",
       "      <td>0</td>\n",
       "      <td>January</td>\n",
       "    </tr>\n",
       "    <tr>\n",
       "      <th>3</th>\n",
       "      <td>0.541306</td>\n",
       "      <td>0.515098</td>\n",
       "      <td>0.473576</td>\n",
       "      <td>0.730769</td>\n",
       "      <td>0.539457</td>\n",
       "      <td>0.524355</td>\n",
       "      <td>0.464958</td>\n",
       "      <td>0.923077</td>\n",
       "      <td>1</td>\n",
       "      <td>February</td>\n",
       "    </tr>\n",
       "    <tr>\n",
       "      <th>4</th>\n",
       "      <td>0.546021</td>\n",
       "      <td>0.521249</td>\n",
       "      <td>0.466043</td>\n",
       "      <td>0.777778</td>\n",
       "      <td>0.536078</td>\n",
       "      <td>0.492695</td>\n",
       "      <td>0.538396</td>\n",
       "      <td>0.368421</td>\n",
       "      <td>1</td>\n",
       "      <td>January</td>\n",
       "    </tr>\n",
       "  </tbody>\n",
       "</table>\n",
       "</div>"
      ],
      "text/plain": [
       "   away_pregame_eFG  away_pregame_rebound_percentage  \\\n",
       "0          0.573770                         0.453333   \n",
       "1          0.533333                         0.474747   \n",
       "2          0.553047                         0.516495   \n",
       "3          0.541306                         0.515098   \n",
       "4          0.546021                         0.521249   \n",
       "\n",
       "   away_pregame_eFG_allowed  away_pregame_win_percentage  home_pregame_eFG  \\\n",
       "0                  0.400000                     1.000000          0.532710   \n",
       "1                  0.462644                     0.666667          0.546000   \n",
       "2                  0.465171                     0.800000          0.531746   \n",
       "3                  0.473576                     0.730769          0.539457   \n",
       "4                  0.466043                     0.777778          0.536078   \n",
       "\n",
       "   home_pregame_rebound_percentage  home_pregame_eFG_allowed  \\\n",
       "0                         0.571429                  0.421488   \n",
       "1                         0.527273                  0.427386   \n",
       "2                         0.519409                  0.463843   \n",
       "3                         0.524355                  0.464958   \n",
       "4                         0.492695                  0.538396   \n",
       "\n",
       "   home_pregame_win_percentage  Home_Win     month  \n",
       "0                     1.000000         1  November  \n",
       "1                     1.000000         0  November  \n",
       "2                     0.937500         0   January  \n",
       "3                     0.923077         1  February  \n",
       "4                     0.368421         1   January  "
      ]
     },
     "execution_count": 25,
     "metadata": {},
     "output_type": "execute_result"
    }
   ],
   "source": [
    "train_df.head()"
   ]
  },
  {
   "cell_type": "code",
   "execution_count": 26,
   "metadata": {},
   "outputs": [
    {
     "data": {
      "text/html": [
       "<div>\n",
       "<style scoped>\n",
       "    .dataframe tbody tr th:only-of-type {\n",
       "        vertical-align: middle;\n",
       "    }\n",
       "\n",
       "    .dataframe tbody tr th {\n",
       "        vertical-align: top;\n",
       "    }\n",
       "\n",
       "    .dataframe thead th {\n",
       "        text-align: right;\n",
       "    }\n",
       "</style>\n",
       "<table border=\"1\" class=\"dataframe\">\n",
       "  <thead>\n",
       "    <tr style=\"text-align: right;\">\n",
       "      <th></th>\n",
       "      <th>away_pregame_eFG</th>\n",
       "      <th>away_pregame_rebound_percentage</th>\n",
       "      <th>away_pregame_eFG_allowed</th>\n",
       "      <th>away_pregame_win_percentage</th>\n",
       "      <th>home_pregame_eFG</th>\n",
       "      <th>home_pregame_rebound_percentage</th>\n",
       "      <th>home_pregame_eFG_allowed</th>\n",
       "      <th>home_pregame_win_percentage</th>\n",
       "      <th>Home_Win</th>\n",
       "      <th>month</th>\n",
       "    </tr>\n",
       "  </thead>\n",
       "  <tbody>\n",
       "    <tr>\n",
       "      <th>0</th>\n",
       "      <td>0.496003</td>\n",
       "      <td>0.472313</td>\n",
       "      <td>0.494077</td>\n",
       "      <td>0.370370</td>\n",
       "      <td>0.558647</td>\n",
       "      <td>0.509396</td>\n",
       "      <td>0.512319</td>\n",
       "      <td>0.592593</td>\n",
       "      <td>1</td>\n",
       "      <td>February</td>\n",
       "    </tr>\n",
       "    <tr>\n",
       "      <th>1</th>\n",
       "      <td>0.484906</td>\n",
       "      <td>0.530726</td>\n",
       "      <td>0.545024</td>\n",
       "      <td>0.375000</td>\n",
       "      <td>0.493737</td>\n",
       "      <td>0.520000</td>\n",
       "      <td>0.409820</td>\n",
       "      <td>0.750000</td>\n",
       "      <td>1</td>\n",
       "      <td>December</td>\n",
       "    </tr>\n",
       "    <tr>\n",
       "      <th>2</th>\n",
       "      <td>0.516193</td>\n",
       "      <td>0.516529</td>\n",
       "      <td>0.494624</td>\n",
       "      <td>0.689655</td>\n",
       "      <td>0.482421</td>\n",
       "      <td>0.535398</td>\n",
       "      <td>0.470207</td>\n",
       "      <td>0.517241</td>\n",
       "      <td>0</td>\n",
       "      <td>March</td>\n",
       "    </tr>\n",
       "    <tr>\n",
       "      <th>3</th>\n",
       "      <td>0.469824</td>\n",
       "      <td>0.523288</td>\n",
       "      <td>0.509342</td>\n",
       "      <td>0.440000</td>\n",
       "      <td>0.471410</td>\n",
       "      <td>0.538053</td>\n",
       "      <td>0.442671</td>\n",
       "      <td>0.760000</td>\n",
       "      <td>1</td>\n",
       "      <td>February</td>\n",
       "    </tr>\n",
       "    <tr>\n",
       "      <th>4</th>\n",
       "      <td>0.522599</td>\n",
       "      <td>0.471354</td>\n",
       "      <td>0.510214</td>\n",
       "      <td>0.562500</td>\n",
       "      <td>0.483042</td>\n",
       "      <td>0.437558</td>\n",
       "      <td>0.514583</td>\n",
       "      <td>0.375000</td>\n",
       "      <td>1</td>\n",
       "      <td>January</td>\n",
       "    </tr>\n",
       "  </tbody>\n",
       "</table>\n",
       "</div>"
      ],
      "text/plain": [
       "   away_pregame_eFG  away_pregame_rebound_percentage  \\\n",
       "0          0.496003                         0.472313   \n",
       "1          0.484906                         0.530726   \n",
       "2          0.516193                         0.516529   \n",
       "3          0.469824                         0.523288   \n",
       "4          0.522599                         0.471354   \n",
       "\n",
       "   away_pregame_eFG_allowed  away_pregame_win_percentage  home_pregame_eFG  \\\n",
       "0                  0.494077                     0.370370          0.558647   \n",
       "1                  0.545024                     0.375000          0.493737   \n",
       "2                  0.494624                     0.689655          0.482421   \n",
       "3                  0.509342                     0.440000          0.471410   \n",
       "4                  0.510214                     0.562500          0.483042   \n",
       "\n",
       "   home_pregame_rebound_percentage  home_pregame_eFG_allowed  \\\n",
       "0                         0.509396                  0.512319   \n",
       "1                         0.520000                  0.409820   \n",
       "2                         0.535398                  0.470207   \n",
       "3                         0.538053                  0.442671   \n",
       "4                         0.437558                  0.514583   \n",
       "\n",
       "   home_pregame_win_percentage  Home_Win     month  \n",
       "0                     0.592593         1  February  \n",
       "1                     0.750000         1  December  \n",
       "2                     0.517241         0     March  \n",
       "3                     0.760000         1  February  \n",
       "4                     0.375000         1   January  "
      ]
     },
     "execution_count": 26,
     "metadata": {},
     "output_type": "execute_result"
    }
   ],
   "source": [
    "test_df.head()"
   ]
  },
  {
   "cell_type": "code",
   "execution_count": 27,
   "metadata": {},
   "outputs": [],
   "source": [
    "# Get dummies for the month\n",
    "train_df= pd.get_dummies(train_df, columns=['month'], drop_first= False)\n",
    "test_df= pd.get_dummies(test_df, columns=['month'], drop_first= False)"
   ]
  },
  {
   "cell_type": "code",
   "execution_count": 28,
   "metadata": {},
   "outputs": [],
   "source": [
    "# Dropping rows with nulls for pregame stats. This reduces outliers and misleading data\n",
    "# We can't use median or mean because we don't know if a team is actually that good\n",
    "train_df = train_df[train_df['away_pregame_rebound_percentage'].notna()]\n",
    "train_df = train_df[train_df['away_pregame_eFG_allowed'].notna()]\n",
    "train_df = train_df[train_df['away_pregame_eFG'].notna()]\n",
    "train_df = train_df[train_df['away_pregame_win_percentage'].notna()]\n",
    "train_df = train_df[train_df['home_pregame_rebound_percentage'].notna()]\n",
    "train_df = train_df[train_df['home_pregame_eFG_allowed'].notna()]\n",
    "train_df = train_df[train_df['home_pregame_eFG'].notna()]\n",
    "train_df = train_df[train_df['home_pregame_win_percentage'].notna()]\n",
    "\n",
    "\n",
    "test_df = test_df[test_df['away_pregame_rebound_percentage'].notna()]\n",
    "test_df = test_df[test_df['away_pregame_eFG_allowed'].notna()]\n",
    "test_df = test_df[test_df['away_pregame_eFG'].notna()]\n",
    "test_df = test_df[test_df['away_pregame_win_percentage'].notna()]\n",
    "test_df = test_df[test_df['home_pregame_rebound_percentage'].notna()]\n",
    "test_df = test_df[test_df['home_pregame_eFG_allowed'].notna()]\n",
    "test_df = test_df[test_df['home_pregame_eFG'].notna()]\n",
    "test_df = test_df[test_df['home_pregame_win_percentage'].notna()]"
   ]
  },
  {
   "cell_type": "code",
   "execution_count": 30,
   "metadata": {},
   "outputs": [
    {
     "data": {
      "text/plain": [
       "away_pregame_eFG                   0\n",
       "away_pregame_rebound_percentage    0\n",
       "away_pregame_eFG_allowed           0\n",
       "away_pregame_win_percentage        0\n",
       "home_pregame_eFG                   0\n",
       "home_pregame_rebound_percentage    0\n",
       "home_pregame_eFG_allowed           0\n",
       "home_pregame_win_percentage        0\n",
       "Home_Win                           0\n",
       "month_December                     0\n",
       "month_February                     0\n",
       "month_January                      0\n",
       "month_March                        0\n",
       "month_November                     0\n",
       "dtype: int64"
      ]
     },
     "execution_count": 30,
     "metadata": {},
     "output_type": "execute_result"
    }
   ],
   "source": [
    "train_df.isnull().sum()"
   ]
  },
  {
   "cell_type": "code",
   "execution_count": null,
   "metadata": {},
   "outputs": [],
   "source": [
    "# Filling null values with the median. Not sure if this is the best approach yet, vs. just dropping the nulls. It's 3% of the games\n",
    "train_df['away_pregame_rebound_percentage'].fillna(train_df['away_pregame_rebound_percentage'].median(), inplace=True)\n",
    "train_df['away_pregame_eFG_allowed'].fillna(train_df['away_pregame_eFG_allowed'].median(), inplace=True)\n",
    "train_df['away_pregame_eFG'].fillna(train_df['away_pregame_eFG'].median(), inplace=True)\n",
    "train_df['away_pregame_win_percentage'].fillna(train_df['away_pregame_win_percentage'].median(), inplace=True)\n",
    "\n",
    "train_df['home_pregame_rebound_percentage'].fillna(train_df['home_pregame_rebound_percentage'].median(), inplace=True)\n",
    "train_df['home_pregame_eFG_allowed'].fillna(train_df['home_pregame_eFG_allowed'].median(), inplace=True)\n",
    "train_df['home_pregame_eFG'].fillna(train_df['home_pregame_eFG'].median(), inplace=True)\n",
    "train_df['home_pregame_win_percentage'].fillna(train_df['home_pregame_win_percentage'].median(), inplace=True)"
   ]
  },
  {
   "cell_type": "code",
   "execution_count": null,
   "metadata": {},
   "outputs": [],
   "source": [
    "# Repeat for test data\n",
    "test_df['away_pregame_rebound_percentage'].fillna(test_df['away_pregame_rebound_percentage'].median(), inplace=True)\n",
    "test_df['away_pregame_eFG_allowed'].fillna(test_df['away_pregame_eFG_allowed'].median(), inplace=True)\n",
    "test_df['away_pregame_eFG'].fillna(test_df['away_pregame_eFG'].median(), inplace=True)\n",
    "test_df['away_pregame_win_percentage'].fillna(test_df['away_pregame_win_percentage'].median(), inplace=True)\n",
    "\n",
    "test_df['home_pregame_rebound_percentage'].fillna(test_df['home_pregame_rebound_percentage'].median(), inplace=True)\n",
    "test_df['home_pregame_eFG_allowed'].fillna(test_df['home_pregame_eFG_allowed'].median(), inplace=True)\n",
    "test_df['home_pregame_eFG'].fillna(test_df['home_pregame_eFG'].median(), inplace=True)\n",
    "test_df['home_pregame_win_percentage'].fillna(test_df['home_pregame_win_percentage'].median(), inplace=True)"
   ]
  },
  {
   "cell_type": "code",
   "execution_count": null,
   "metadata": {},
   "outputs": [],
   "source": [
    "train_df.info()\n",
    "# train_df.isnull().sum()"
   ]
  },
  {
   "cell_type": "code",
   "execution_count": null,
   "metadata": {},
   "outputs": [],
   "source": [
    "test_df.drop(columns=['losing_abbr', 'losing_name', 'home_team_name', 'away_team_name', 'winning_abbr', 'winning_name' , 'home_team', 'away_team'], inplace=True)"
   ]
  },
  {
   "cell_type": "code",
   "execution_count": null,
   "metadata": {},
   "outputs": [],
   "source": [
    "train_df.drop(columns=['losing_abbr', 'losing_name', 'home_team_name', 'away_team_name', 'winning_abbr', 'winning_name' , 'home_team', 'away_team'], inplace=True)"
   ]
  },
  {
   "cell_type": "code",
   "execution_count": null,
   "metadata": {},
   "outputs": [],
   "source": [
    "test_df.drop(columns=['team_name'], inplace=True)\n",
    "train_df.drop(columns=['team_name'], inplace=True)\n",
    "train_df.head()"
   ]
  },
  {
   "cell_type": "code",
   "execution_count": 45,
   "metadata": {},
   "outputs": [
    {
     "name": "stdout",
     "output_type": "stream",
     "text": [
      "[ 269   55  188  156  296  628  618  530  797  467 1133  799  478  588\n",
      "  272  354  269  125   53  327]\n"
     ]
    },
    {
     "data": {
      "image/png": "[encoded data removed]",
      "text/plain": [
       "<Figure size 432x288 with 1 Axes>"
      ]
     },
     "metadata": {
      "needs_background": "light"
     },
     "output_type": "display_data"
    }
   ],
   "source": [
    "# Next step will be to remove outliers in the data. Need to trim things up a bit so that the fit transform doesn't kill us or overfit\n",
    "#the model\n",
    "\n",
    "import matplotlib.pyplot as plt\n",
    "\n",
    "counts, edges, plot = plt.hist(train_df['away_pregame_win_percentage'], bins=20)\n",
    "\n",
    "counts = counts.astype(int)\n",
    "\n",
    "print(counts)\n",
    "\n",
    "# as we can see, there is a concentration in the middle but we should be very wary of pregame stats on the extremes.\n",
    "# Buckets up to .4 are very suspect for eFG - most teams end up shooting at least .45 over the course of the season\n",
    "# The same goes for high (>.60) eFG allowed\n"
   ]
  },
  {
   "cell_type": "code",
   "execution_count": 44,
   "metadata": {},
   "outputs": [
    {
     "name": "stdout",
     "output_type": "stream",
     "text": [
      "-0.6359189853731321   3.3361125199109356\n"
     ]
    }
   ],
   "source": [
    "from scipy.stats import skew, kurtosis\n",
    "dataskew = skew(train_df['home_pregame_eFG_allowed'], bias=True)\n",
    "datakurt = kurtosis(train_df['home_pregame_eFG_allowed'], bias=True)\n",
    "\n",
    "print(dataskew, ' ', datakurt)"
   ]
  },
  {
   "cell_type": "code",
   "execution_count": null,
   "metadata": {},
   "outputs": [],
   "source": [
    "# Trimming extremes from train dataset only. This is because we want to see how an outlier strains the model\n",
    "train_df = train_df[train_df['away_pregame_eFG'] < 0.6]\n",
    "train_df = train_df[train_df['away_pregame_eFG'] > 0.4]\n",
    "train_df = train_df[train_df['away_pregame_eFG_allowed'] < 0.6]\n",
    "train_df = train_df[train_df['away_pregame_eFG_allowed'] > 0.4]\n",
    "train_df = train_df[train_df['away_pregame_rebound_percentage'] < 0.65]\n",
    "train_df = train_df[train_df['away_pregame_rebound_percentage'] > 0.4]\n",
    "\n",
    "train_df = train_df[train_df['home_pregame_eFG'] < 0.6]\n",
    "train_df = train_df[train_df['home_pregame_eFG'] > 0.4]\n",
    "train_df = train_df[train_df['home_pregame_eFG_allowed'] < 0.6]\n",
    "train_df = train_df[train_df['home_pregame_eFG_allowed'] > 0.4]\n",
    "train_df = train_df[train_df['home_pregame_rebound_percentage'] < 0.65]\n",
    "train_df = train_df[train_df['home_pregame_rebound_percentage'] > 0.4]\n",
    "# away_pregame_eFG = under 0.4 and above 0.6 (not inclusive)\n",
    "# away_pregame_eFG_allowed = same as eFG\n",
    "# away_pregame_rebound_percentage = under 0.4 and above 0.65\n",
    "\n",
    "\n",
    "#test_df = test_df[test_df['away_pregame_eFG'] < 0.6]\n",
    "#test_df = test_df[test_df['away_pregame_eFG'] > 0.4]\n",
    "#test_df = test_df[test_df['away_pregame_eFG_allowed'] < 0.6]\n",
    "#test_df = test_df[test_df['away_pregame_eFG_allowed'] > 0.4]\n",
    "#test_df = test_df[test_df['away_pregame_rebound_percentage'] < 0.65]\n",
    "#test_df = test_df[test_df['away_pregame_rebound_percentage'] > 0.4]\n",
    "\n",
    "#test_df = test_df[test_df['home_pregame_eFG'] < 0.6]\n",
    "#test_df = test_df[test_df['home_pregame_eFG'] > 0.4]\n",
    "#test_df = test_df[test_df['home_pregame_eFG_allowed'] < 0.6]\n",
    "#test_df = test_df[test_df['home_pregame_eFG_allowed'] > 0.4]\n",
    "#test_df = test_df[test_df['home_pregame_rebound_percentage'] < 0.65]\n",
    "#train_df = train_df[train_df['home_pregame_rebound_percentage'] > 0.4]"
   ]
  },
  {
   "cell_type": "code",
   "execution_count": null,
   "metadata": {},
   "outputs": [],
   "source": [
    "counts, edges, plot = plt.hist(train_df['away_pregame_eFG'], bins=20)\n",
    "\n",
    "counts = counts.astype(int)\n",
    "\n",
    "print(counts)\n"
   ]
  },
  {
   "cell_type": "code",
   "execution_count": null,
   "metadata": {},
   "outputs": [],
   "source": []
  },
  {
   "cell_type": "code",
   "execution_count": 46,
   "metadata": {},
   "outputs": [
    {
     "data": {
      "text/html": [
       "<div>\n",
       "<style scoped>\n",
       "    .dataframe tbody tr th:only-of-type {\n",
       "        vertical-align: middle;\n",
       "    }\n",
       "\n",
       "    .dataframe tbody tr th {\n",
       "        vertical-align: top;\n",
       "    }\n",
       "\n",
       "    .dataframe thead th {\n",
       "        text-align: right;\n",
       "    }\n",
       "</style>\n",
       "<table border=\"1\" class=\"dataframe\">\n",
       "  <thead>\n",
       "    <tr style=\"text-align: right;\">\n",
       "      <th></th>\n",
       "      <th>Home_Win</th>\n",
       "      <th>away_pregame_eFG</th>\n",
       "      <th>away_pregame_rebound_percentage</th>\n",
       "      <th>away_pregame_eFG_allowed</th>\n",
       "      <th>away_pregame_win_percentage</th>\n",
       "      <th>home_pregame_eFG</th>\n",
       "      <th>home_pregame_rebound_percentage</th>\n",
       "      <th>home_pregame_eFG_allowed</th>\n",
       "      <th>home_pregame_win_percentage</th>\n",
       "      <th>month_December</th>\n",
       "      <th>month_February</th>\n",
       "      <th>month_January</th>\n",
       "      <th>month_March</th>\n",
       "      <th>month_November</th>\n",
       "    </tr>\n",
       "  </thead>\n",
       "  <tbody>\n",
       "    <tr>\n",
       "      <th>0</th>\n",
       "      <td>1</td>\n",
       "      <td>0.496003</td>\n",
       "      <td>0.472313</td>\n",
       "      <td>0.494077</td>\n",
       "      <td>0.370370</td>\n",
       "      <td>0.558647</td>\n",
       "      <td>0.509396</td>\n",
       "      <td>0.512319</td>\n",
       "      <td>0.592593</td>\n",
       "      <td>0</td>\n",
       "      <td>1</td>\n",
       "      <td>0</td>\n",
       "      <td>0</td>\n",
       "      <td>0</td>\n",
       "    </tr>\n",
       "    <tr>\n",
       "      <th>1</th>\n",
       "      <td>1</td>\n",
       "      <td>0.484906</td>\n",
       "      <td>0.530726</td>\n",
       "      <td>0.545024</td>\n",
       "      <td>0.375000</td>\n",
       "      <td>0.493737</td>\n",
       "      <td>0.520000</td>\n",
       "      <td>0.409820</td>\n",
       "      <td>0.750000</td>\n",
       "      <td>1</td>\n",
       "      <td>0</td>\n",
       "      <td>0</td>\n",
       "      <td>0</td>\n",
       "      <td>0</td>\n",
       "    </tr>\n",
       "    <tr>\n",
       "      <th>2</th>\n",
       "      <td>0</td>\n",
       "      <td>0.516193</td>\n",
       "      <td>0.516529</td>\n",
       "      <td>0.494624</td>\n",
       "      <td>0.689655</td>\n",
       "      <td>0.482421</td>\n",
       "      <td>0.535398</td>\n",
       "      <td>0.470207</td>\n",
       "      <td>0.517241</td>\n",
       "      <td>0</td>\n",
       "      <td>0</td>\n",
       "      <td>0</td>\n",
       "      <td>1</td>\n",
       "      <td>0</td>\n",
       "    </tr>\n",
       "    <tr>\n",
       "      <th>3</th>\n",
       "      <td>1</td>\n",
       "      <td>0.469824</td>\n",
       "      <td>0.523288</td>\n",
       "      <td>0.509342</td>\n",
       "      <td>0.440000</td>\n",
       "      <td>0.471410</td>\n",
       "      <td>0.538053</td>\n",
       "      <td>0.442671</td>\n",
       "      <td>0.760000</td>\n",
       "      <td>0</td>\n",
       "      <td>1</td>\n",
       "      <td>0</td>\n",
       "      <td>0</td>\n",
       "      <td>0</td>\n",
       "    </tr>\n",
       "    <tr>\n",
       "      <th>4</th>\n",
       "      <td>1</td>\n",
       "      <td>0.522599</td>\n",
       "      <td>0.471354</td>\n",
       "      <td>0.510214</td>\n",
       "      <td>0.562500</td>\n",
       "      <td>0.483042</td>\n",
       "      <td>0.437558</td>\n",
       "      <td>0.514583</td>\n",
       "      <td>0.375000</td>\n",
       "      <td>0</td>\n",
       "      <td>0</td>\n",
       "      <td>1</td>\n",
       "      <td>0</td>\n",
       "      <td>0</td>\n",
       "    </tr>\n",
       "  </tbody>\n",
       "</table>\n",
       "</div>"
      ],
      "text/plain": [
       "   Home_Win  away_pregame_eFG  away_pregame_rebound_percentage  \\\n",
       "0         1          0.496003                         0.472313   \n",
       "1         1          0.484906                         0.530726   \n",
       "2         0          0.516193                         0.516529   \n",
       "3         1          0.469824                         0.523288   \n",
       "4         1          0.522599                         0.471354   \n",
       "\n",
       "   away_pregame_eFG_allowed  away_pregame_win_percentage  home_pregame_eFG  \\\n",
       "0                  0.494077                     0.370370          0.558647   \n",
       "1                  0.545024                     0.375000          0.493737   \n",
       "2                  0.494624                     0.689655          0.482421   \n",
       "3                  0.509342                     0.440000          0.471410   \n",
       "4                  0.510214                     0.562500          0.483042   \n",
       "\n",
       "   home_pregame_rebound_percentage  home_pregame_eFG_allowed  \\\n",
       "0                         0.509396                  0.512319   \n",
       "1                         0.520000                  0.409820   \n",
       "2                         0.535398                  0.470207   \n",
       "3                         0.538053                  0.442671   \n",
       "4                         0.437558                  0.514583   \n",
       "\n",
       "   home_pregame_win_percentage  month_December  month_February  month_January  \\\n",
       "0                     0.592593               0               1              0   \n",
       "1                     0.750000               1               0              0   \n",
       "2                     0.517241               0               0              0   \n",
       "3                     0.760000               0               1              0   \n",
       "4                     0.375000               0               0              1   \n",
       "\n",
       "   month_March  month_November  \n",
       "0            0               0  \n",
       "1            0               0  \n",
       "2            1               0  \n",
       "3            0               0  \n",
       "4            0               0  "
      ]
     },
     "execution_count": 46,
     "metadata": {},
     "output_type": "execute_result"
    }
   ],
   "source": [
    "# shift column 'Name' to first position\n",
    "first_column = test_df.pop('Home_Win')\n",
    "  \n",
    "# insert column using insert(position,column_name,\n",
    "# first_column) function\n",
    "test_df.insert(0, 'Home_Win', first_column)\n",
    "test_df.head()"
   ]
  },
  {
   "cell_type": "code",
   "execution_count": 47,
   "metadata": {},
   "outputs": [
    {
     "data": {
      "text/html": [
       "<div>\n",
       "<style scoped>\n",
       "    .dataframe tbody tr th:only-of-type {\n",
       "        vertical-align: middle;\n",
       "    }\n",
       "\n",
       "    .dataframe tbody tr th {\n",
       "        vertical-align: top;\n",
       "    }\n",
       "\n",
       "    .dataframe thead th {\n",
       "        text-align: right;\n",
       "    }\n",
       "</style>\n",
       "<table border=\"1\" class=\"dataframe\">\n",
       "  <thead>\n",
       "    <tr style=\"text-align: right;\">\n",
       "      <th></th>\n",
       "      <th>Home_Win</th>\n",
       "      <th>away_pregame_eFG</th>\n",
       "      <th>away_pregame_rebound_percentage</th>\n",
       "      <th>away_pregame_eFG_allowed</th>\n",
       "      <th>away_pregame_win_percentage</th>\n",
       "      <th>home_pregame_eFG</th>\n",
       "      <th>home_pregame_rebound_percentage</th>\n",
       "      <th>home_pregame_eFG_allowed</th>\n",
       "      <th>home_pregame_win_percentage</th>\n",
       "      <th>month_December</th>\n",
       "      <th>month_February</th>\n",
       "      <th>month_January</th>\n",
       "      <th>month_March</th>\n",
       "      <th>month_November</th>\n",
       "    </tr>\n",
       "  </thead>\n",
       "  <tbody>\n",
       "    <tr>\n",
       "      <th>0</th>\n",
       "      <td>1</td>\n",
       "      <td>0.573770</td>\n",
       "      <td>0.453333</td>\n",
       "      <td>0.400000</td>\n",
       "      <td>1.000000</td>\n",
       "      <td>0.532710</td>\n",
       "      <td>0.571429</td>\n",
       "      <td>0.421488</td>\n",
       "      <td>1.000000</td>\n",
       "      <td>0</td>\n",
       "      <td>0</td>\n",
       "      <td>0</td>\n",
       "      <td>0</td>\n",
       "      <td>1</td>\n",
       "    </tr>\n",
       "    <tr>\n",
       "      <th>1</th>\n",
       "      <td>0</td>\n",
       "      <td>0.533333</td>\n",
       "      <td>0.474747</td>\n",
       "      <td>0.462644</td>\n",
       "      <td>0.666667</td>\n",
       "      <td>0.546000</td>\n",
       "      <td>0.527273</td>\n",
       "      <td>0.427386</td>\n",
       "      <td>1.000000</td>\n",
       "      <td>0</td>\n",
       "      <td>0</td>\n",
       "      <td>0</td>\n",
       "      <td>0</td>\n",
       "      <td>1</td>\n",
       "    </tr>\n",
       "    <tr>\n",
       "      <th>2</th>\n",
       "      <td>0</td>\n",
       "      <td>0.553047</td>\n",
       "      <td>0.516495</td>\n",
       "      <td>0.465171</td>\n",
       "      <td>0.800000</td>\n",
       "      <td>0.531746</td>\n",
       "      <td>0.519409</td>\n",
       "      <td>0.463843</td>\n",
       "      <td>0.937500</td>\n",
       "      <td>0</td>\n",
       "      <td>0</td>\n",
       "      <td>1</td>\n",
       "      <td>0</td>\n",
       "      <td>0</td>\n",
       "    </tr>\n",
       "    <tr>\n",
       "      <th>3</th>\n",
       "      <td>1</td>\n",
       "      <td>0.541306</td>\n",
       "      <td>0.515098</td>\n",
       "      <td>0.473576</td>\n",
       "      <td>0.730769</td>\n",
       "      <td>0.539457</td>\n",
       "      <td>0.524355</td>\n",
       "      <td>0.464958</td>\n",
       "      <td>0.923077</td>\n",
       "      <td>0</td>\n",
       "      <td>1</td>\n",
       "      <td>0</td>\n",
       "      <td>0</td>\n",
       "      <td>0</td>\n",
       "    </tr>\n",
       "    <tr>\n",
       "      <th>4</th>\n",
       "      <td>1</td>\n",
       "      <td>0.546021</td>\n",
       "      <td>0.521249</td>\n",
       "      <td>0.466043</td>\n",
       "      <td>0.777778</td>\n",
       "      <td>0.536078</td>\n",
       "      <td>0.492695</td>\n",
       "      <td>0.538396</td>\n",
       "      <td>0.368421</td>\n",
       "      <td>0</td>\n",
       "      <td>0</td>\n",
       "      <td>1</td>\n",
       "      <td>0</td>\n",
       "      <td>0</td>\n",
       "    </tr>\n",
       "  </tbody>\n",
       "</table>\n",
       "</div>"
      ],
      "text/plain": [
       "   Home_Win  away_pregame_eFG  away_pregame_rebound_percentage  \\\n",
       "0         1          0.573770                         0.453333   \n",
       "1         0          0.533333                         0.474747   \n",
       "2         0          0.553047                         0.516495   \n",
       "3         1          0.541306                         0.515098   \n",
       "4         1          0.546021                         0.521249   \n",
       "\n",
       "   away_pregame_eFG_allowed  away_pregame_win_percentage  home_pregame_eFG  \\\n",
       "0                  0.400000                     1.000000          0.532710   \n",
       "1                  0.462644                     0.666667          0.546000   \n",
       "2                  0.465171                     0.800000          0.531746   \n",
       "3                  0.473576                     0.730769          0.539457   \n",
       "4                  0.466043                     0.777778          0.536078   \n",
       "\n",
       "   home_pregame_rebound_percentage  home_pregame_eFG_allowed  \\\n",
       "0                         0.571429                  0.421488   \n",
       "1                         0.527273                  0.427386   \n",
       "2                         0.519409                  0.463843   \n",
       "3                         0.524355                  0.464958   \n",
       "4                         0.492695                  0.538396   \n",
       "\n",
       "   home_pregame_win_percentage  month_December  month_February  month_January  \\\n",
       "0                     1.000000               0               0              0   \n",
       "1                     1.000000               0               0              0   \n",
       "2                     0.937500               0               0              1   \n",
       "3                     0.923077               0               1              0   \n",
       "4                     0.368421               0               0              1   \n",
       "\n",
       "   month_March  month_November  \n",
       "0            0               1  \n",
       "1            0               1  \n",
       "2            0               0  \n",
       "3            0               0  \n",
       "4            0               0  "
      ]
     },
     "execution_count": 47,
     "metadata": {},
     "output_type": "execute_result"
    }
   ],
   "source": [
    "# shift column 'Name' to first position\n",
    "first_column = train_df.pop('Home_Win')\n",
    "  \n",
    "# insert column using insert(position,column_name,\n",
    "# first_column) function\n",
    "train_df.insert(0, 'Home_Win', first_column)\n",
    "train_df.head()"
   ]
  },
  {
   "cell_type": "code",
   "execution_count": 48,
   "metadata": {},
   "outputs": [],
   "source": [
    "# Create separate dataframes for the features and target variable so we can train the model\n",
    "x_train = train_df.iloc[:,1:]\n",
    "y_train = train_df['Home_Win'].values.reshape(-1,1)\n",
    "\n",
    "#This will be used to test our performance\n",
    "x_test = test_df.iloc[:,1:]\n",
    "y_test = test_df['Home_Win'].values.reshape(-1,1)\n"
   ]
  },
  {
   "cell_type": "code",
   "execution_count": 49,
   "metadata": {},
   "outputs": [],
   "source": [
    "from sklearn.preprocessing import StandardScaler\n",
    "ss= StandardScaler()\n",
    "features= ['away_pregame_eFG', 'away_pregame_rebound_percentage', 'away_pregame_eFG_allowed', 'away_pregame_win_percentage','home_pregame_eFG', 'home_pregame_rebound_percentage', 'home_pregame_eFG_allowed', 'home_pregame_win_percentage']\n",
    "\n",
    "# Apply transformations to the features we need to normalize on a (-1, 1) scale. Makes the model faster\n",
    "x_train[features]= ss.fit_transform(x_train[features])\n",
    "x_test[features]= ss.fit_transform(x_test[features])"
   ]
  },
  {
   "cell_type": "code",
   "execution_count": null,
   "metadata": {},
   "outputs": [],
   "source": [
    "# Undo the transform with the below if you want:\n",
    "x_train[features] = ss.inverse_transform(x_train[features])\n",
    "x_test[features] = ss.inverse_transform(x_test[features])"
   ]
  },
  {
   "cell_type": "code",
   "execution_count": 51,
   "metadata": {},
   "outputs": [
    {
     "data": {
      "text/html": [
       "<div>\n",
       "<style scoped>\n",
       "    .dataframe tbody tr th:only-of-type {\n",
       "        vertical-align: middle;\n",
       "    }\n",
       "\n",
       "    .dataframe tbody tr th {\n",
       "        vertical-align: top;\n",
       "    }\n",
       "\n",
       "    .dataframe thead th {\n",
       "        text-align: right;\n",
       "    }\n",
       "</style>\n",
       "<table border=\"1\" class=\"dataframe\">\n",
       "  <thead>\n",
       "    <tr style=\"text-align: right;\">\n",
       "      <th></th>\n",
       "      <th>Home_Win</th>\n",
       "      <th>away_pregame_eFG</th>\n",
       "      <th>away_pregame_rebound_percentage</th>\n",
       "      <th>away_pregame_eFG_allowed</th>\n",
       "      <th>away_pregame_win_percentage</th>\n",
       "      <th>home_pregame_eFG</th>\n",
       "      <th>home_pregame_rebound_percentage</th>\n",
       "      <th>home_pregame_eFG_allowed</th>\n",
       "      <th>home_pregame_win_percentage</th>\n",
       "      <th>month_December</th>\n",
       "      <th>month_February</th>\n",
       "      <th>month_January</th>\n",
       "      <th>month_March</th>\n",
       "      <th>month_November</th>\n",
       "    </tr>\n",
       "  </thead>\n",
       "  <tbody>\n",
       "    <tr>\n",
       "      <th>count</th>\n",
       "      <td>8402.000000</td>\n",
       "      <td>8402.000000</td>\n",
       "      <td>8402.000000</td>\n",
       "      <td>8402.000000</td>\n",
       "      <td>8402.000000</td>\n",
       "      <td>8402.000000</td>\n",
       "      <td>8402.000000</td>\n",
       "      <td>8402.000000</td>\n",
       "      <td>8402.000000</td>\n",
       "      <td>8402.000000</td>\n",
       "      <td>8402.000000</td>\n",
       "      <td>8402.000000</td>\n",
       "      <td>8402.000000</td>\n",
       "      <td>8402.000000</td>\n",
       "    </tr>\n",
       "    <tr>\n",
       "      <th>mean</th>\n",
       "      <td>0.635444</td>\n",
       "      <td>0.502657</td>\n",
       "      <td>0.503886</td>\n",
       "      <td>0.497448</td>\n",
       "      <td>0.494256</td>\n",
       "      <td>0.514425</td>\n",
       "      <td>0.516483</td>\n",
       "      <td>0.484767</td>\n",
       "      <td>0.595786</td>\n",
       "      <td>0.179600</td>\n",
       "      <td>0.260771</td>\n",
       "      <td>0.266484</td>\n",
       "      <td>0.113901</td>\n",
       "      <td>0.179243</td>\n",
       "    </tr>\n",
       "    <tr>\n",
       "      <th>std</th>\n",
       "      <td>0.481334</td>\n",
       "      <td>0.040010</td>\n",
       "      <td>0.038220</td>\n",
       "      <td>0.039924</td>\n",
       "      <td>0.221490</td>\n",
       "      <td>0.038098</td>\n",
       "      <td>0.037129</td>\n",
       "      <td>0.039022</td>\n",
       "      <td>0.215887</td>\n",
       "      <td>0.383877</td>\n",
       "      <td>0.439081</td>\n",
       "      <td>0.442147</td>\n",
       "      <td>0.317710</td>\n",
       "      <td>0.383579</td>\n",
       "    </tr>\n",
       "    <tr>\n",
       "      <th>min</th>\n",
       "      <td>0.000000</td>\n",
       "      <td>0.198529</td>\n",
       "      <td>0.272727</td>\n",
       "      <td>0.245763</td>\n",
       "      <td>0.000000</td>\n",
       "      <td>0.281818</td>\n",
       "      <td>0.264706</td>\n",
       "      <td>0.181818</td>\n",
       "      <td>0.000000</td>\n",
       "      <td>0.000000</td>\n",
       "      <td>0.000000</td>\n",
       "      <td>0.000000</td>\n",
       "      <td>0.000000</td>\n",
       "      <td>0.000000</td>\n",
       "    </tr>\n",
       "    <tr>\n",
       "      <th>25%</th>\n",
       "      <td>0.000000</td>\n",
       "      <td>0.480298</td>\n",
       "      <td>0.481022</td>\n",
       "      <td>0.474431</td>\n",
       "      <td>0.333333</td>\n",
       "      <td>0.490700</td>\n",
       "      <td>0.493151</td>\n",
       "      <td>0.462973</td>\n",
       "      <td>0.454545</td>\n",
       "      <td>0.000000</td>\n",
       "      <td>0.000000</td>\n",
       "      <td>0.000000</td>\n",
       "      <td>0.000000</td>\n",
       "      <td>0.000000</td>\n",
       "    </tr>\n",
       "    <tr>\n",
       "      <th>50%</th>\n",
       "      <td>1.000000</td>\n",
       "      <td>0.503280</td>\n",
       "      <td>0.502786</td>\n",
       "      <td>0.497705</td>\n",
       "      <td>0.500000</td>\n",
       "      <td>0.513638</td>\n",
       "      <td>0.515076</td>\n",
       "      <td>0.486607</td>\n",
       "      <td>0.600000</td>\n",
       "      <td>0.000000</td>\n",
       "      <td>0.000000</td>\n",
       "      <td>0.000000</td>\n",
       "      <td>0.000000</td>\n",
       "      <td>0.000000</td>\n",
       "    </tr>\n",
       "    <tr>\n",
       "      <th>75%</th>\n",
       "      <td>1.000000</td>\n",
       "      <td>0.526975</td>\n",
       "      <td>0.526562</td>\n",
       "      <td>0.520669</td>\n",
       "      <td>0.636364</td>\n",
       "      <td>0.537620</td>\n",
       "      <td>0.539778</td>\n",
       "      <td>0.509146</td>\n",
       "      <td>0.750000</td>\n",
       "      <td>0.000000</td>\n",
       "      <td>1.000000</td>\n",
       "      <td>1.000000</td>\n",
       "      <td>0.000000</td>\n",
       "      <td>0.000000</td>\n",
       "    </tr>\n",
       "    <tr>\n",
       "      <th>max</th>\n",
       "      <td>1.000000</td>\n",
       "      <td>0.771429</td>\n",
       "      <td>0.746269</td>\n",
       "      <td>0.798387</td>\n",
       "      <td>1.000000</td>\n",
       "      <td>0.777027</td>\n",
       "      <td>0.763889</td>\n",
       "      <td>0.686441</td>\n",
       "      <td>1.000000</td>\n",
       "      <td>1.000000</td>\n",
       "      <td>1.000000</td>\n",
       "      <td>1.000000</td>\n",
       "      <td>1.000000</td>\n",
       "      <td>1.000000</td>\n",
       "    </tr>\n",
       "  </tbody>\n",
       "</table>\n",
       "</div>"
      ],
      "text/plain": [
       "          Home_Win  away_pregame_eFG  away_pregame_rebound_percentage  \\\n",
       "count  8402.000000       8402.000000                      8402.000000   \n",
       "mean      0.635444          0.502657                         0.503886   \n",
       "std       0.481334          0.040010                         0.038220   \n",
       "min       0.000000          0.198529                         0.272727   \n",
       "25%       0.000000          0.480298                         0.481022   \n",
       "50%       1.000000          0.503280                         0.502786   \n",
       "75%       1.000000          0.526975                         0.526562   \n",
       "max       1.000000          0.771429                         0.746269   \n",
       "\n",
       "       away_pregame_eFG_allowed  away_pregame_win_percentage  \\\n",
       "count               8402.000000                  8402.000000   \n",
       "mean                   0.497448                     0.494256   \n",
       "std                    0.039924                     0.221490   \n",
       "min                    0.245763                     0.000000   \n",
       "25%                    0.474431                     0.333333   \n",
       "50%                    0.497705                     0.500000   \n",
       "75%                    0.520669                     0.636364   \n",
       "max                    0.798387                     1.000000   \n",
       "\n",
       "       home_pregame_eFG  home_pregame_rebound_percentage  \\\n",
       "count       8402.000000                      8402.000000   \n",
       "mean           0.514425                         0.516483   \n",
       "std            0.038098                         0.037129   \n",
       "min            0.281818                         0.264706   \n",
       "25%            0.490700                         0.493151   \n",
       "50%            0.513638                         0.515076   \n",
       "75%            0.537620                         0.539778   \n",
       "max            0.777027                         0.763889   \n",
       "\n",
       "       home_pregame_eFG_allowed  home_pregame_win_percentage  month_December  \\\n",
       "count               8402.000000                  8402.000000     8402.000000   \n",
       "mean                   0.484767                     0.595786        0.179600   \n",
       "std                    0.039022                     0.215887        0.383877   \n",
       "min                    0.181818                     0.000000        0.000000   \n",
       "25%                    0.462973                     0.454545        0.000000   \n",
       "50%                    0.486607                     0.600000        0.000000   \n",
       "75%                    0.509146                     0.750000        0.000000   \n",
       "max                    0.686441                     1.000000        1.000000   \n",
       "\n",
       "       month_February  month_January  month_March  month_November  \n",
       "count     8402.000000    8402.000000  8402.000000     8402.000000  \n",
       "mean         0.260771       0.266484     0.113901        0.179243  \n",
       "std          0.439081       0.442147     0.317710        0.383579  \n",
       "min          0.000000       0.000000     0.000000        0.000000  \n",
       "25%          0.000000       0.000000     0.000000        0.000000  \n",
       "50%          0.000000       0.000000     0.000000        0.000000  \n",
       "75%          1.000000       1.000000     0.000000        0.000000  \n",
       "max          1.000000       1.000000     1.000000        1.000000  "
      ]
     },
     "execution_count": 51,
     "metadata": {},
     "output_type": "execute_result"
    }
   ],
   "source": [
    "train_df.describe()"
   ]
  },
  {
   "cell_type": "code",
   "execution_count": 50,
   "metadata": {},
   "outputs": [
    {
     "data": {
      "text/html": [
       "<div>\n",
       "<style scoped>\n",
       "    .dataframe tbody tr th:only-of-type {\n",
       "        vertical-align: middle;\n",
       "    }\n",
       "\n",
       "    .dataframe tbody tr th {\n",
       "        vertical-align: top;\n",
       "    }\n",
       "\n",
       "    .dataframe thead th {\n",
       "        text-align: right;\n",
       "    }\n",
       "</style>\n",
       "<table border=\"1\" class=\"dataframe\">\n",
       "  <thead>\n",
       "    <tr style=\"text-align: right;\">\n",
       "      <th></th>\n",
       "      <th>away_pregame_eFG</th>\n",
       "      <th>away_pregame_rebound_percentage</th>\n",
       "      <th>away_pregame_eFG_allowed</th>\n",
       "      <th>away_pregame_win_percentage</th>\n",
       "      <th>home_pregame_eFG</th>\n",
       "      <th>home_pregame_rebound_percentage</th>\n",
       "      <th>home_pregame_eFG_allowed</th>\n",
       "      <th>home_pregame_win_percentage</th>\n",
       "      <th>month_December</th>\n",
       "      <th>month_February</th>\n",
       "      <th>month_January</th>\n",
       "      <th>month_March</th>\n",
       "      <th>month_November</th>\n",
       "    </tr>\n",
       "  </thead>\n",
       "  <tbody>\n",
       "    <tr>\n",
       "      <th>0</th>\n",
       "      <td>-0.148938</td>\n",
       "      <td>-0.818665</td>\n",
       "      <td>-0.061297</td>\n",
       "      <td>-0.569979</td>\n",
       "      <td>1.021150</td>\n",
       "      <td>-0.200461</td>\n",
       "      <td>0.698007</td>\n",
       "      <td>-0.058155</td>\n",
       "      <td>0</td>\n",
       "      <td>1</td>\n",
       "      <td>0</td>\n",
       "      <td>0</td>\n",
       "      <td>0</td>\n",
       "    </tr>\n",
       "    <tr>\n",
       "      <th>1</th>\n",
       "      <td>-0.416918</td>\n",
       "      <td>0.771043</td>\n",
       "      <td>1.271444</td>\n",
       "      <td>-0.548692</td>\n",
       "      <td>-0.551987</td>\n",
       "      <td>0.076031</td>\n",
       "      <td>-1.863591</td>\n",
       "      <td>0.661297</td>\n",
       "      <td>1</td>\n",
       "      <td>0</td>\n",
       "      <td>0</td>\n",
       "      <td>0</td>\n",
       "      <td>0</td>\n",
       "    </tr>\n",
       "    <tr>\n",
       "      <th>2</th>\n",
       "      <td>0.338639</td>\n",
       "      <td>0.384666</td>\n",
       "      <td>-0.047005</td>\n",
       "      <td>0.898119</td>\n",
       "      <td>-0.826244</td>\n",
       "      <td>0.477528</td>\n",
       "      <td>-0.354420</td>\n",
       "      <td>-0.402559</td>\n",
       "      <td>0</td>\n",
       "      <td>0</td>\n",
       "      <td>0</td>\n",
       "      <td>1</td>\n",
       "      <td>0</td>\n",
       "    </tr>\n",
       "    <tr>\n",
       "      <th>3</th>\n",
       "      <td>-0.781115</td>\n",
       "      <td>0.568604</td>\n",
       "      <td>0.338022</td>\n",
       "      <td>-0.249816</td>\n",
       "      <td>-1.093098</td>\n",
       "      <td>0.546751</td>\n",
       "      <td>-1.042601</td>\n",
       "      <td>0.707004</td>\n",
       "      <td>0</td>\n",
       "      <td>1</td>\n",
       "      <td>0</td>\n",
       "      <td>0</td>\n",
       "      <td>0</td>\n",
       "    </tr>\n",
       "    <tr>\n",
       "      <th>4</th>\n",
       "      <td>0.493329</td>\n",
       "      <td>-0.844752</td>\n",
       "      <td>0.360834</td>\n",
       "      <td>0.313449</td>\n",
       "      <td>-0.811184</td>\n",
       "      <td>-2.073586</td>\n",
       "      <td>0.754600</td>\n",
       "      <td>-1.052693</td>\n",
       "      <td>0</td>\n",
       "      <td>0</td>\n",
       "      <td>1</td>\n",
       "      <td>0</td>\n",
       "      <td>0</td>\n",
       "    </tr>\n",
       "  </tbody>\n",
       "</table>\n",
       "</div>"
      ],
      "text/plain": [
       "   away_pregame_eFG  away_pregame_rebound_percentage  \\\n",
       "0         -0.148938                        -0.818665   \n",
       "1         -0.416918                         0.771043   \n",
       "2          0.338639                         0.384666   \n",
       "3         -0.781115                         0.568604   \n",
       "4          0.493329                        -0.844752   \n",
       "\n",
       "   away_pregame_eFG_allowed  away_pregame_win_percentage  home_pregame_eFG  \\\n",
       "0                 -0.061297                    -0.569979          1.021150   \n",
       "1                  1.271444                    -0.548692         -0.551987   \n",
       "2                 -0.047005                     0.898119         -0.826244   \n",
       "3                  0.338022                    -0.249816         -1.093098   \n",
       "4                  0.360834                     0.313449         -0.811184   \n",
       "\n",
       "   home_pregame_rebound_percentage  home_pregame_eFG_allowed  \\\n",
       "0                        -0.200461                  0.698007   \n",
       "1                         0.076031                 -1.863591   \n",
       "2                         0.477528                 -0.354420   \n",
       "3                         0.546751                 -1.042601   \n",
       "4                        -2.073586                  0.754600   \n",
       "\n",
       "   home_pregame_win_percentage  month_December  month_February  month_January  \\\n",
       "0                    -0.058155               0               1              0   \n",
       "1                     0.661297               1               0              0   \n",
       "2                    -0.402559               0               0              0   \n",
       "3                     0.707004               0               1              0   \n",
       "4                    -1.052693               0               0              1   \n",
       "\n",
       "   month_March  month_November  \n",
       "0            0               0  \n",
       "1            0               0  \n",
       "2            1               0  \n",
       "3            0               0  \n",
       "4            0               0  "
      ]
     },
     "execution_count": 50,
     "metadata": {},
     "output_type": "execute_result"
    }
   ],
   "source": [
    "x_test.head()"
   ]
  },
  {
   "cell_type": "code",
   "execution_count": null,
   "metadata": {},
   "outputs": [],
   "source": []
  },
  {
   "cell_type": "code",
   "execution_count": null,
   "metadata": {},
   "outputs": [],
   "source": []
  },
  {
   "cell_type": "code",
   "execution_count": null,
   "metadata": {},
   "outputs": [],
   "source": []
  },
  {
   "cell_type": "code",
   "execution_count": null,
   "metadata": {},
   "outputs": [],
   "source": [
    "x_train.head()"
   ]
  },
  {
   "cell_type": "code",
   "execution_count": 53,
   "metadata": {},
   "outputs": [
    {
     "data": {
      "text/plain": [
       "1472"
      ]
     },
     "execution_count": 53,
     "metadata": {},
     "output_type": "execute_result"
    }
   ],
   "source": [
    "len(x_test)"
   ]
  },
  {
   "cell_type": "code",
   "execution_count": 54,
   "metadata": {},
   "outputs": [
    {
     "data": {
      "text/plain": [
       "8402"
      ]
     },
     "execution_count": 54,
     "metadata": {},
     "output_type": "execute_result"
    }
   ],
   "source": [
    "len(x_train)"
   ]
  },
  {
   "cell_type": "code",
   "execution_count": 55,
   "metadata": {},
   "outputs": [
    {
     "data": {
      "text/plain": [
       "LogisticRegression()"
      ]
     },
     "execution_count": 55,
     "metadata": {},
     "output_type": "execute_result"
    }
   ],
   "source": [
    "from sklearn.linear_model import LogisticRegression\n",
    "clf = LogisticRegression()\n",
    "# clf is our model object\n",
    "clf.fit(x_train, y_train.ravel())"
   ]
  },
  {
   "cell_type": "code",
   "execution_count": 56,
   "metadata": {},
   "outputs": [
    {
     "name": "stdout",
     "output_type": "stream",
     "text": [
      "0.6354439419185908\n"
     ]
    }
   ],
   "source": [
    "print(clf.score(x_train, y_train))"
   ]
  },
  {
   "cell_type": "code",
   "execution_count": 57,
   "metadata": {},
   "outputs": [],
   "source": [
    "# Get predictions on the test data using our model\n",
    "predictions = clf.predict(x_test)\n",
    "win_probability = clf.predict_proba(x_test)"
   ]
  },
  {
   "cell_type": "code",
   "execution_count": 58,
   "metadata": {},
   "outputs": [
    {
     "data": {
      "text/plain": [
       "1472"
      ]
     },
     "execution_count": 58,
     "metadata": {},
     "output_type": "execute_result"
    }
   ],
   "source": [
    "len(win_probability)"
   ]
  },
  {
   "cell_type": "code",
   "execution_count": 60,
   "metadata": {},
   "outputs": [
    {
     "data": {
      "text/html": [
       "<div>\n",
       "<style scoped>\n",
       "    .dataframe tbody tr th:only-of-type {\n",
       "        vertical-align: middle;\n",
       "    }\n",
       "\n",
       "    .dataframe tbody tr th {\n",
       "        vertical-align: top;\n",
       "    }\n",
       "\n",
       "    .dataframe thead th {\n",
       "        text-align: right;\n",
       "    }\n",
       "</style>\n",
       "<table border=\"1\" class=\"dataframe\">\n",
       "  <thead>\n",
       "    <tr style=\"text-align: right;\">\n",
       "      <th></th>\n",
       "      <th>Win_Home</th>\n",
       "      <th>Prediction</th>\n",
       "    </tr>\n",
       "  </thead>\n",
       "  <tbody>\n",
       "    <tr>\n",
       "      <th>0</th>\n",
       "      <td>1</td>\n",
       "      <td>1</td>\n",
       "    </tr>\n",
       "    <tr>\n",
       "      <th>1</th>\n",
       "      <td>1</td>\n",
       "      <td>1</td>\n",
       "    </tr>\n",
       "    <tr>\n",
       "      <th>2</th>\n",
       "      <td>0</td>\n",
       "      <td>1</td>\n",
       "    </tr>\n",
       "    <tr>\n",
       "      <th>3</th>\n",
       "      <td>1</td>\n",
       "      <td>1</td>\n",
       "    </tr>\n",
       "    <tr>\n",
       "      <th>4</th>\n",
       "      <td>1</td>\n",
       "      <td>1</td>\n",
       "    </tr>\n",
       "  </tbody>\n",
       "</table>\n",
       "</div>"
      ],
      "text/plain": [
       "   Win_Home  Prediction\n",
       "0         1           1\n",
       "1         1           1\n",
       "2         0           1\n",
       "3         1           1\n",
       "4         1           1"
      ]
     },
     "execution_count": 60,
     "metadata": {},
     "output_type": "execute_result"
    }
   ],
   "source": [
    "# output predictions to a DF. This displays the result and the prediction\n",
    "predictionsdf = pd.DataFrame({'Win_Home': test_df['Home_Win'], 'Prediction': predictions })\n",
    "predictionsdf.head()\n"
   ]
  },
  {
   "cell_type": "code",
   "execution_count": 61,
   "metadata": {},
   "outputs": [
    {
     "data": {
      "text/plain": [
       "1472"
      ]
     },
     "execution_count": 61,
     "metadata": {},
     "output_type": "execute_result"
    }
   ],
   "source": [
    "len(predictionsdf)"
   ]
  },
  {
   "cell_type": "code",
   "execution_count": 72,
   "metadata": {},
   "outputs": [
    {
     "data": {
      "text/plain": [
       "Home_Loss    0\n",
       "Home_Win     0\n",
       "dtype: int64"
      ]
     },
     "execution_count": 72,
     "metadata": {},
     "output_type": "execute_result"
    }
   ],
   "source": [
    "# Create dataframe based on forecasted probability of each game \n",
    "win_probability_df = pd.DataFrame(win_probability, columns=['Home_Loss', 'Home_Win'])\n",
    "win_probability_df.isnull().sum()"
   ]
  },
  {
   "cell_type": "code",
   "execution_count": 71,
   "metadata": {},
   "outputs": [],
   "source": [
    "del win_probability_df"
   ]
  },
  {
   "cell_type": "code",
   "execution_count": 98,
   "metadata": {},
   "outputs": [
    {
     "data": {
      "text/plain": [
       "<AxesSubplot:>"
      ]
     },
     "execution_count": 98,
     "metadata": {},
     "output_type": "execute_result"
    },
    {
     "data": {
      "image/png": "[encoded data removed]",
      "text/plain": [
       "<Figure size 432x288 with 1 Axes>"
      ]
     },
     "metadata": {
      "needs_background": "light"
     },
     "output_type": "display_data"
    }
   ],
   "source": [
    "win_probability_df= win_probability_df.merge(predictionsdf, left_index=True, right_index=True, how='inner')\n",
    "win_probability_df.head()\n",
    "# Create histogram to show distribution\n",
    "win_probability_df['Home_Win'].hist(bins=20)"
   ]
  },
  {
   "cell_type": "code",
   "execution_count": 74,
   "metadata": {},
   "outputs": [
    {
     "data": {
      "text/plain": [
       "1332"
      ]
     },
     "execution_count": 74,
     "metadata": {},
     "output_type": "execute_result"
    }
   ],
   "source": [
    "len(win_probability_df)"
   ]
  },
  {
   "cell_type": "code",
   "execution_count": 77,
   "metadata": {},
   "outputs": [
    {
     "data": {
      "image/png": "[encoded data removed]",
      "text/plain": [
       "<Figure size 432x288 with 1 Axes>"
      ]
     },
     "metadata": {
      "needs_background": "light"
     },
     "output_type": "display_data"
    }
   ],
   "source": [
    "win_probability_df.sort_values('Home_Win', inplace=True)\n",
    "\n",
    "plot = sns.scatterplot(data=win_probability_df, x=range(0,1332), y='Home_Win')\n",
    "\n",
    "plt.show()"
   ]
  },
  {
   "cell_type": "code",
   "execution_count": 96,
   "metadata": {},
   "outputs": [
    {
     "data": {
      "text/html": [
       "<div>\n",
       "<style scoped>\n",
       "    .dataframe tbody tr th:only-of-type {\n",
       "        vertical-align: middle;\n",
       "    }\n",
       "\n",
       "    .dataframe tbody tr th {\n",
       "        vertical-align: top;\n",
       "    }\n",
       "\n",
       "    .dataframe thead th {\n",
       "        text-align: right;\n",
       "    }\n",
       "</style>\n",
       "<table border=\"1\" class=\"dataframe\">\n",
       "  <thead>\n",
       "    <tr style=\"text-align: right;\">\n",
       "      <th></th>\n",
       "      <th>Home_Loss</th>\n",
       "      <th>Home_Win</th>\n",
       "      <th>Win_Home</th>\n",
       "      <th>Prediction</th>\n",
       "    </tr>\n",
       "  </thead>\n",
       "  <tbody>\n",
       "    <tr>\n",
       "      <th>246</th>\n",
       "      <td>0.279948</td>\n",
       "      <td>0.720052</td>\n",
       "      <td>0</td>\n",
       "      <td>1</td>\n",
       "    </tr>\n",
       "    <tr>\n",
       "      <th>914</th>\n",
       "      <td>0.279789</td>\n",
       "      <td>0.720211</td>\n",
       "      <td>1</td>\n",
       "      <td>1</td>\n",
       "    </tr>\n",
       "    <tr>\n",
       "      <th>1371</th>\n",
       "      <td>0.278327</td>\n",
       "      <td>0.721673</td>\n",
       "      <td>0</td>\n",
       "      <td>1</td>\n",
       "    </tr>\n",
       "    <tr>\n",
       "      <th>1258</th>\n",
       "      <td>0.277864</td>\n",
       "      <td>0.722136</td>\n",
       "      <td>0</td>\n",
       "      <td>1</td>\n",
       "    </tr>\n",
       "    <tr>\n",
       "      <th>899</th>\n",
       "      <td>0.277498</td>\n",
       "      <td>0.722502</td>\n",
       "      <td>1</td>\n",
       "      <td>1</td>\n",
       "    </tr>\n",
       "  </tbody>\n",
       "</table>\n",
       "</div>"
      ],
      "text/plain": [
       "      Home_Loss  Home_Win  Win_Home  Prediction\n",
       "246    0.279948  0.720052         0           1\n",
       "914    0.279789  0.720211         1           1\n",
       "1371   0.278327  0.721673         0           1\n",
       "1258   0.277864  0.722136         0           1\n",
       "899    0.277498  0.722502         1           1"
      ]
     },
     "execution_count": 96,
     "metadata": {},
     "output_type": "execute_result"
    }
   ],
   "source": [
    "# Getting the accuracy for the games that we forecast extra high and low likelihood\n",
    "topbucket = win_probability_df[win_probability_df['Home_Win'] > 0.72]\n",
    "\n",
    "bottombucket = win_probability_df[win_probability_df['Home_Win'] < 0.6]\n",
    "#bottombucket.head()\n",
    "topbucket.head()\n"
   ]
  },
  {
   "cell_type": "code",
   "execution_count": 79,
   "metadata": {},
   "outputs": [
    {
     "data": {
      "text/plain": [
       "Home_Loss     0\n",
       "Home_Win      0\n",
       "Win_Home      0\n",
       "Prediction    0\n",
       "dtype: int64"
      ]
     },
     "execution_count": 79,
     "metadata": {},
     "output_type": "execute_result"
    }
   ],
   "source": [
    "bottombucket.isnull().sum()"
   ]
  },
  {
   "cell_type": "code",
   "execution_count": 97,
   "metadata": {},
   "outputs": [
    {
     "name": "stdout",
     "output_type": "stream",
     "text": [
      "Overall Accuracy:  0.6480978260869565       Accuracy p>.70:  0.5925925925925926      Accuracy p<.60:  0.6507352941176471\n"
     ]
    }
   ],
   "source": [
    "from sklearn.metrics import accuracy_score\n",
    "# Get the accuracy score for our overall predictions, the top and bottom buckets\n",
    "overallaccuracy = accuracy_score(predictionsdf['Win_Home'], predictionsdf['Prediction'])\n",
    "topbucketaccuracy = accuracy_score(topbucket['Win_Home'], topbucket['Prediction'])\n",
    "bottombucketaccuracy = accuracy_score(bottombucket['Win_Home'], bottombucket['Prediction'])\n",
    "print('Overall Accuracy: ', overallaccuracy, '      Accuracy p>.70: ', topbucketaccuracy, '     Accuracy p<.60: ',  bottombucketaccuracy)"
   ]
  },
  {
   "cell_type": "code",
   "execution_count": 81,
   "metadata": {},
   "outputs": [],
   "source": [
    "# Getting confidence ratings for our predictions. >=1 is very confident\n",
    "confidence = clf.decision_function(x_test)\n",
    "confidencedf = pd.DataFrame(confidence, columns=['Confidence_Score'])"
   ]
  },
  {
   "cell_type": "code",
   "execution_count": null,
   "metadata": {},
   "outputs": [],
   "source": [
    "confidencedf.head(30)"
   ]
  },
  {
   "cell_type": "code",
   "execution_count": 82,
   "metadata": {},
   "outputs": [
    {
     "data": {
      "text/html": [
       "<div>\n",
       "<style scoped>\n",
       "    .dataframe tbody tr th:only-of-type {\n",
       "        vertical-align: middle;\n",
       "    }\n",
       "\n",
       "    .dataframe tbody tr th {\n",
       "        vertical-align: top;\n",
       "    }\n",
       "\n",
       "    .dataframe thead th {\n",
       "        text-align: right;\n",
       "    }\n",
       "</style>\n",
       "<table border=\"1\" class=\"dataframe\">\n",
       "  <thead>\n",
       "    <tr style=\"text-align: right;\">\n",
       "      <th></th>\n",
       "      <th>Confidence_Score</th>\n",
       "    </tr>\n",
       "  </thead>\n",
       "  <tbody>\n",
       "    <tr>\n",
       "      <th>count</th>\n",
       "      <td>1472.000000</td>\n",
       "    </tr>\n",
       "    <tr>\n",
       "      <th>mean</th>\n",
       "      <td>0.566621</td>\n",
       "    </tr>\n",
       "    <tr>\n",
       "      <th>std</th>\n",
       "      <td>0.185948</td>\n",
       "    </tr>\n",
       "    <tr>\n",
       "      <th>min</th>\n",
       "      <td>0.232559</td>\n",
       "    </tr>\n",
       "    <tr>\n",
       "      <th>25%</th>\n",
       "      <td>0.420280</td>\n",
       "    </tr>\n",
       "    <tr>\n",
       "      <th>50%</th>\n",
       "      <td>0.496826</td>\n",
       "    </tr>\n",
       "    <tr>\n",
       "      <th>75%</th>\n",
       "      <td>0.741354</td>\n",
       "    </tr>\n",
       "    <tr>\n",
       "      <th>max</th>\n",
       "      <td>1.225600</td>\n",
       "    </tr>\n",
       "  </tbody>\n",
       "</table>\n",
       "</div>"
      ],
      "text/plain": [
       "       Confidence_Score\n",
       "count       1472.000000\n",
       "mean           0.566621\n",
       "std            0.185948\n",
       "min            0.232559\n",
       "25%            0.420280\n",
       "50%            0.496826\n",
       "75%            0.741354\n",
       "max            1.225600"
      ]
     },
     "execution_count": 82,
     "metadata": {},
     "output_type": "execute_result"
    }
   ],
   "source": [
    "confidencedf.describe()"
   ]
  },
  {
   "cell_type": "code",
   "execution_count": 95,
   "metadata": {},
   "outputs": [
    {
     "name": "stdout",
     "output_type": "stream",
     "text": [
      "high conf:  0.8333333333333334   low conf:  0.6666666666666666\n"
     ]
    }
   ],
   "source": [
    "#  functions for accuracy based on high and low confidence projections\n",
    "highconfidencedf = confidencedf[confidencedf['Confidence_Score'] >= 1]\n",
    "lowconfidencedf = confidencedf[confidencedf['Confidence_Score'] <=.25]\n",
    "\n",
    "highconfidencedf = highconfidencedf.merge(predictionsdf, left_index=True, right_index=True, how='inner')\n",
    "lowconfidencedf = lowconfidencedf.merge(predictionsdf, left_index=True, right_index=True, how='inner')\n",
    "\n",
    "#highconfidencedf.dropna(axis=0, how='any', inplace=True)\n",
    "\n",
    "\n",
    "highconfidenceaccuracy = accuracy_score(highconfidencedf['Win_Home'], highconfidencedf['Prediction'])\n",
    "lowconfidenceaccuracy = accuracy_score(lowconfidencedf['Win_Home'], lowconfidencedf['Prediction'])\n",
    "print('high conf: ', highconfidenceaccuracy, '  low conf: ' , lowconfidenceaccuracy)"
   ]
  },
  {
   "cell_type": "code",
   "execution_count": 89,
   "metadata": {},
   "outputs": [
    {
     "data": {
      "image/png": "[encoded data removed]",
      "text/plain": [
       "<Figure size 432x288 with 1 Axes>"
      ]
     },
     "metadata": {
      "needs_background": "light"
     },
     "output_type": "display_data"
    }
   ],
   "source": [
    "confidenceplot = confidencedf.sort_values('Confidence_Score')\n",
    "\n",
    "plot = sns.scatterplot(data=confidenceplot, x=range(0,1472), y='Confidence_Score')\n",
    "\n",
    "plt.show()"
   ]
  },
  {
   "cell_type": "code",
   "execution_count": null,
   "metadata": {},
   "outputs": [],
   "source": [
    "len(highconfidencedf)"
   ]
  },
  {
   "cell_type": "code",
   "execution_count": 100,
   "metadata": {},
   "outputs": [
    {
     "ename": "ModuleNotFoundError",
     "evalue": "No module named 'yellowbrick'",
     "output_type": "error",
     "traceback": [
      "\u001b[1;31m---------------------------------------------------------------------------\u001b[0m",
      "\u001b[1;31mModuleNotFoundError\u001b[0m                       Traceback (most recent call last)",
      "\u001b[1;32m<ipython-input-100-c57cb578ea51>\u001b[0m in \u001b[0;36m<module>\u001b[1;34m\u001b[0m\n\u001b[1;32m----> 1\u001b[1;33m \u001b[1;32mfrom\u001b[0m \u001b[0myellowbrick\u001b[0m\u001b[1;33m.\u001b[0m\u001b[0mclassifier\u001b[0m \u001b[1;32mimport\u001b[0m \u001b[0mdiscrimination_threshold\u001b[0m\u001b[1;33m\u001b[0m\u001b[1;33m\u001b[0m\u001b[0m\n\u001b[0m\u001b[0;32m      2\u001b[0m \u001b[1;32mfrom\u001b[0m \u001b[0msklearn\u001b[0m\u001b[1;33m.\u001b[0m\u001b[0mlinear_model\u001b[0m \u001b[1;32mimport\u001b[0m \u001b[0mLogisticRegression\u001b[0m\u001b[1;33m\u001b[0m\u001b[1;33m\u001b[0m\u001b[0m\n\u001b[0;32m      3\u001b[0m \u001b[1;32mfrom\u001b[0m \u001b[0myellowbrick\u001b[0m\u001b[1;33m.\u001b[0m\u001b[0mdatasets\u001b[0m \u001b[1;32mimport\u001b[0m \u001b[0mload_spam\u001b[0m\u001b[1;33m\u001b[0m\u001b[1;33m\u001b[0m\u001b[0m\n\u001b[0;32m      4\u001b[0m \u001b[1;31m#X, y = load_spam()\u001b[0m\u001b[1;33m\u001b[0m\u001b[1;33m\u001b[0m\u001b[1;33m\u001b[0m\u001b[0m\n\u001b[0;32m      5\u001b[0m \u001b[1;31m#visualizer = discrimination_threshold(LogisticRegression(multi_class=\"auto\", solver=\"liblinear\"), X,y)\u001b[0m\u001b[1;33m\u001b[0m\u001b[1;33m\u001b[0m\u001b[1;33m\u001b[0m\u001b[0m\n",
      "\u001b[1;31mModuleNotFoundError\u001b[0m: No module named 'yellowbrick'"
     ]
    }
   ],
   "source": [
    "from yellowbrick.classifier import discrimination_threshold\n",
    "from sklearn.linear_model import LogisticRegression\n",
    "from yellowbrick.datasets import load_spam\n",
    "#X, y = load_spam()\n",
    "#visualizer = discrimination_threshold(LogisticRegression(multi_class=\"auto\", solver=\"liblinear\"), X,y)"
   ]
  },
  {
   "cell_type": "code",
   "execution_count": 102,
   "metadata": {},
   "outputs": [],
   "source": [
    "import pickle\n",
    "\n",
    "ncaab_winner_v1 = pickle.dumps(clf)\n",
    "x_test.to_csv('./x_test_v1.csv')\n",
    "test_df['Home_Win'].to_csv('./y_test_v1.csv')\n",
    "x_train.to_csv('./x_train_v1.csv')\n",
    "train_df['Home_Win'].to_csv('./y_train_v1.csv')\n"
   ]
  },
  {
   "cell_type": "code",
   "execution_count": null,
   "metadata": {},
   "outputs": [],
   "source": []
  }
 ],
 "metadata": {
  "interpreter": {
   "hash": "92657ca4b7caffcc106ecd18ce7390aa60f9d1d2335a91e3d100b066ab2851d9"
  },
  "kernelspec": {
   "display_name": "Python 3.6.13 ('ssl')",
   "language": "python",
   "name": "python3"
  },
  "language_info": {
   "codemirror_mode": {
    "name": "ipython",
    "version": 3
   },
   "file_extension": ".py",
   "mimetype": "text/x-python",
   "name": "python",
   "nbconvert_exporter": "python",
   "pygments_lexer": "ipython3",
   "version": "3.6.13"
  },
  "orig_nbformat": 4
 },
 "nbformat": 4,
 "nbformat_minor": 2
}
